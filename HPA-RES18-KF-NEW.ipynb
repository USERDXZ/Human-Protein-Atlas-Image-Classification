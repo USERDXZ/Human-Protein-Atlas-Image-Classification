{
 "cells": [
  {
   "cell_type": "code",
   "execution_count": 1,
   "metadata": {},
   "outputs": [
    {
     "name": "stderr",
     "output_type": "stream",
     "text": [
      "/home/usst/anaconda3/envs/dxzpy/lib/python3.6/site-packages/sklearn/ensemble/weight_boosting.py:29: DeprecationWarning: numpy.core.umath_tests is an internal NumPy module and should not be imported. It will be removed in a future NumPy release.\n",
      "  from numpy.core.umath_tests import inner1d\n"
     ]
    }
   ],
   "source": [
    "from fastai.conv_learner import *\n",
    "from fastai.dataset import *\n",
    "\n",
    "import pandas as pd\n",
    "import numpy as np\n",
    "import os\n",
    "from sklearn.model_selection import train_test_split\n",
    "from sklearn.metrics import f1_score\n",
    "import scipy.optimize as opt"
   ]
  },
  {
   "cell_type": "code",
   "execution_count": 2,
   "metadata": {},
   "outputs": [],
   "source": [
    "import random \n",
    "seed = 42\n",
    "random.seed(seed)\n",
    "np.random.seed(seed)"
   ]
  },
  {
   "cell_type": "code",
   "execution_count": 3,
   "metadata": {},
   "outputs": [],
   "source": [
    "PATH = './'\n",
    "TRAIN = './train/'\n",
    "TEST = './test/'\n",
    "LABELS = './train.csv'#'./HPAv18RBGY_wodpl.csv'\n",
    "\n",
    "MOREDATA = './moredata/'\n",
    "MORELABELS = './rare.csv'\n",
    "\n",
    "SAMPLE = './sample_submission.csv'"
   ]
  },
  {
   "cell_type": "code",
   "execution_count": 4,
   "metadata": {},
   "outputs": [],
   "source": [
    "name_label_dict = {\n",
    "0:  'Nucleoplasm',\n",
    "1:  'Nuclear membrane',\n",
    "2:  'Nucleoli',   \n",
    "3:  'Nucleoli fibrillar center',\n",
    "4:  'Nuclear speckles',\n",
    "5:  'Nuclear bodies',\n",
    "6:  'Endoplasmic reticulum',   \n",
    "7:  'Golgi apparatus',\n",
    "8:  'Peroxisomes',\n",
    "9:  'Endosomes',\n",
    "10:  'Lysosomes',\n",
    "11:  'Intermediate filaments',\n",
    "12:  'Actin filaments',\n",
    "13:  'Focal adhesion sites',   \n",
    "14:  'Microtubules',\n",
    "15:  'Microtubule ends',  \n",
    "16:  'Cytokinetic bridge',   \n",
    "17:  'Mitotic spindle',\n",
    "18:  'Microtubule organizing center',  \n",
    "19:  'Centrosome',\n",
    "20:  'Lipid droplets',\n",
    "21:  'Plasma membrane',   \n",
    "22:  'Cell junctions', \n",
    "23:  'Mitochondria',\n",
    "24:  'Aggresome',\n",
    "25:  'Cytosol',\n",
    "26:  'Cytoplasmic bodies',   \n",
    "27:  'Rods & rings' }"
   ]
  },
  {
   "cell_type": "code",
   "execution_count": 5,
   "metadata": {},
   "outputs": [
    {
     "name": "stdout",
     "output_type": "stream",
     "text": [
      "train: 31072   test: 11702\n"
     ]
    }
   ],
   "source": [
    "#moredata_names = list(pd.read_csv(MORELABELS)['Id'])\n",
    "train_names = sorted({f[:36] for f in os.listdir(TRAIN)})\n",
    "#train_names += moredata_names\n",
    "test_names = sorted({f[:36] for f in os.listdir(TEST)})\n",
    "print('train:',len(train_names),'  test:',len(test_names))\n",
    "#tr_n,val_n = train_test_split(train_names, test_size=0.1, random_state=seed)\n",
    "#print('train:',len(tr_n),'  val:',len(val_n))"
   ]
  },
  {
   "cell_type": "code",
   "execution_count": 6,
   "metadata": {},
   "outputs": [
    {
     "data": {
      "text/plain": [
       "'\\nfrom sklearn.model_selection import KFold\\n\\ni=1\\nkf = KFold(n_splits=5,shuffle=True,random_state=seed)\\n\\nfor train, test in kf.split(train_names):\\n    np.save(\\'./KF_2/train_%s.npy\\'% i,train)\\n    np.save(\\'./KF_2/test_%s.npy\\'% i,test)\\n    print(\"%s %s\" % (train, test))\\n    i+=1\\n'"
      ]
     },
     "execution_count": 6,
     "metadata": {},
     "output_type": "execute_result"
    }
   ],
   "source": [
    "\"\"\"\n",
    "from sklearn.model_selection import KFold\n",
    "\n",
    "i=1\n",
    "kf = KFold(n_splits=5,shuffle=True,random_state=seed)\n",
    "\n",
    "for train, test in kf.split(train_names):\n",
    "    np.save('./KF_2/train_%s.npy'% i,train)\n",
    "    np.save('./KF_2/test_%s.npy'% i,test)\n",
    "    print(\"%s %s\" % (train, test))\n",
    "    i+=1\n",
    "\"\"\""
   ]
  },
  {
   "cell_type": "code",
   "execution_count": 7,
   "metadata": {},
   "outputs": [
    {
     "name": "stdout",
     "output_type": "stream",
     "text": [
      "train: 24857   val: 6215\n"
     ]
    }
   ],
   "source": [
    "tr_n,val_n= [],[]\n",
    "KF_num = 1\n",
    "for i in np.load('./KF_2/train_%s.npy'%KF_num):\n",
    "    tr_n.append(train_names[i])\n",
    "for i in np.load('./KF_2/test_%s.npy'%KF_num):\n",
    "    val_n.append(train_names[i])\n",
    "print('train:',len(tr_n),'  val:',len(val_n))"
   ]
  },
  {
   "cell_type": "code",
   "execution_count": 8,
   "metadata": {},
   "outputs": [
    {
     "name": "stdout",
     "output_type": "stream",
     "text": [
      "26349\n"
     ]
    }
   ],
   "source": [
    "#creating duplicates for rare classes in train set\n",
    "class Oversampling:\n",
    "    def __init__(self,path):\n",
    "        self.train_labels = pd.read_csv(path).set_index('Id')\n",
    "        self.train_labels['Target'] = [[int(i) for i in s.split()] \n",
    "                                       for s in self.train_labels['Target']]  \n",
    "        #set the minimum number of duplicates for each class\n",
    "        self.multi = [1,1,1,1,1,1,1,1,\n",
    "                      4,4,4,1,1,1,1,4,\n",
    "                      2,2,1,1,2,1,1,1,\n",
    "                      2,1,2,4]\n",
    "\n",
    "    def get(self,image_id):\n",
    "        labels = self.train_labels.loc[image_id,'Target'] if image_id \\\n",
    "          in self.train_labels.index else []\n",
    "        m = 1\n",
    " \n",
    "        for l in labels:\n",
    "            if m < self.multi[l]: m = self.multi[l]\n",
    "        return m\n",
    "    \n",
    "s = Oversampling(os.path.join(PATH,'train.csv'))\n",
    "tr_n = [idx for idx in tr_n for _ in range(s.get(idx))]\n",
    "print(len(tr_n),flush=True)"
   ]
  },
  {
   "cell_type": "code",
   "execution_count": 9,
   "metadata": {},
   "outputs": [],
   "source": [
    "def open_rgby(path,id): #a function that reads RGBY image\n",
    "    colors = ['red','green','blue','yellow']\n",
    "    flags = cv2.IMREAD_GRAYSCALE\n",
    "    img = [cv2.imread(os.path.join(path, id+'_'+color+'.png'), flags).astype(np.float32)/255\n",
    "           for color in colors]\n",
    "    #try:\n",
    "    #    img = [cv2.imread(os.path.join(path, id+'_'+color+'.png'), flags).astype(np.float32)/255\n",
    "    #           for color in colors]\n",
    "    #except:\n",
    "    #    img = [cv2.imread(os.path.join(MOREDATA, id+'_'+color+'.png'), flags).astype(np.float32)/255\n",
    "    #           for color in colors]\n",
    "    return np.stack(img, axis=-1)"
   ]
  },
  {
   "cell_type": "code",
   "execution_count": 10,
   "metadata": {},
   "outputs": [],
   "source": [
    "class pdFilesDataset(FilesDataset):\n",
    "    def __init__(self, fnames, path, transform):\n",
    "        self.labels = pd.read_csv(LABELS).set_index('Id')\n",
    "        self.labels['Target'] = [[int(i) for i in s.split()] for s in self.labels['Target']]\n",
    "        super().__init__(fnames, transform, path)\n",
    "    \n",
    "    def get_x(self, i):\n",
    "        img = open_rgby(self.path,self.fnames[i])\n",
    "        if self.sz == 512: return img \n",
    "        else: return cv2.resize(img, (self.sz, self.sz),cv2.INTER_AREA)\n",
    "    \n",
    "    def get_y(self, i):\n",
    "        if(self.path == TEST): return np.zeros(len(name_label_dict),dtype=np.int)\n",
    "        else:\n",
    "            labels = self.labels.loc[self.fnames[i]]['Target']\n",
    "            return np.eye(len(name_label_dict),dtype=np.float)[labels].sum(axis=0)\n",
    "        \n",
    "    @property\n",
    "    def is_multi(self): return True\n",
    "    @property\n",
    "    def is_reg(self):return True\n",
    "    #this flag is set to remove the output sigmoid that allows log(sigmoid) optimization\n",
    "    #of the numerical stability of the loss function\n",
    "    \n",
    "    def get_c(self): return len(name_label_dict) #number of classes"
   ]
  },
  {
   "cell_type": "code",
   "execution_count": 11,
   "metadata": {},
   "outputs": [],
   "source": [
    "def get_data(sz,bs,is_test=False):\n",
    "    #data augmentation\n",
    "    if is_test:\n",
    "        aug_tfms = [RandomRotate(30, tfm_y=TfmType.NO),\n",
    "                RandomDihedral(tfm_y=TfmType.NO)]\n",
    "    else:\n",
    "        aug_tfms = [RandomRotate(30, tfm_y=TfmType.NO),\n",
    "                RandomDihedral(tfm_y=TfmType.NO),\n",
    "                RandomLighting(0.05, 0.05, tfm_y=TfmType.NO),\n",
    "                \n",
    "                Cutout(n_holes=25, length=10*sz//128, tfm_y=TfmType.NO)]\n",
    "    #mean and std in of each channel in the train set\n",
    "    stats = A([0.08069, 0.05258, 0.05487, 0.08282], [0.13704, 0.10145, 0.15313, 0.13814])\n",
    "    #stats = A([0.07265, 0.05087, 0.0456 , 0.08611],[0.12196, 0.09341, 0.13714, 0.13533])\n",
    "    tfms = tfms_from_stats(stats, sz, crop_type=CropType.NO, tfm_y=TfmType.NO, \n",
    "                aug_tfms=aug_tfms)\n",
    "    ds = ImageData.get_ds(pdFilesDataset, (tr_n[:-(len(tr_n)%bs)],TRAIN), \n",
    "                (val_n,TRAIN), tfms, test=(test_names,TEST))\n",
    "    md = ImageData(PATH, ds, bs, num_workers=nw, classes=None)\n",
    "    return md\n",
    "\n",
    "# HPAv18 all RGBY (each image is colored RGB png image 512x512)\n",
    "#stats = A([0.06734, 0.05087, 0.03266, 0.09257],[0.11997, 0.10335, 0.10124, 0.1574 ])\n",
    "#HPAv18+orginal\n",
    "#([0.05634, 0.05198, 0.03216, 0.09692],[0.0859 , 0.08025, 0.0859 , 0.13703])\n",
    "\n",
    "#([0.07265, 0.05087, 0.0456 , 0.08611],[0.12196, 0.09341, 0.13714, 0.13533])"
   ]
  },
  {
   "cell_type": "code",
   "execution_count": 12,
   "metadata": {
    "scrolled": true
   },
   "outputs": [
    {
     "ename": "RuntimeError",
     "evalue": "CUDA error: out of memory",
     "output_type": "error",
     "traceback": [
      "\u001b[0;31m---------------------------------------------------------------------------\u001b[0m",
      "\u001b[0;31mRuntimeError\u001b[0m                              Traceback (most recent call last)",
      "\u001b[0;32m<ipython-input-12-3efe6de6a020>\u001b[0m in \u001b[0;36m<module>\u001b[0;34m()\u001b[0m\n\u001b[1;32m      6\u001b[0m \u001b[0mmd\u001b[0m \u001b[0;34m=\u001b[0m \u001b[0mget_data\u001b[0m\u001b[0;34m(\u001b[0m\u001b[0msz\u001b[0m\u001b[0;34m,\u001b[0m\u001b[0mbs\u001b[0m\u001b[0;34m,\u001b[0m\u001b[0mis_test\u001b[0m\u001b[0;34m=\u001b[0m\u001b[0;32mTrue\u001b[0m\u001b[0;34m)\u001b[0m\u001b[0;34m\u001b[0m\u001b[0m\n\u001b[1;32m      7\u001b[0m \u001b[0;34m\u001b[0m\u001b[0m\n\u001b[0;32m----> 8\u001b[0;31m \u001b[0mx\u001b[0m\u001b[0;34m,\u001b[0m\u001b[0my\u001b[0m \u001b[0;34m=\u001b[0m \u001b[0mnext\u001b[0m\u001b[0;34m(\u001b[0m\u001b[0miter\u001b[0m\u001b[0;34m(\u001b[0m\u001b[0mmd\u001b[0m\u001b[0;34m.\u001b[0m\u001b[0mtrn_dl\u001b[0m\u001b[0;34m)\u001b[0m\u001b[0;34m)\u001b[0m\u001b[0;34m\u001b[0m\u001b[0m\n\u001b[0m\u001b[1;32m      9\u001b[0m \u001b[0mx\u001b[0m\u001b[0;34m.\u001b[0m\u001b[0mshape\u001b[0m\u001b[0;34m,\u001b[0m \u001b[0my\u001b[0m\u001b[0;34m.\u001b[0m\u001b[0mshape\u001b[0m\u001b[0;34m\u001b[0m\u001b[0m\n",
      "\u001b[0;32m~/anaconda3/envs/dxzpy/lib/python3.6/site-packages/fastai/dataloader.py\u001b[0m in \u001b[0;36m__iter__\u001b[0;34m(self)\u001b[0m\n\u001b[1;32m     87\u001b[0m                 \u001b[0;32mfor\u001b[0m \u001b[0mc\u001b[0m \u001b[0;32min\u001b[0m \u001b[0mchunk_iter\u001b[0m\u001b[0;34m(\u001b[0m\u001b[0miter\u001b[0m\u001b[0;34m(\u001b[0m\u001b[0mself\u001b[0m\u001b[0;34m.\u001b[0m\u001b[0mbatch_sampler\u001b[0m\u001b[0;34m)\u001b[0m\u001b[0;34m,\u001b[0m \u001b[0mself\u001b[0m\u001b[0;34m.\u001b[0m\u001b[0mnum_workers\u001b[0m\u001b[0;34m*\u001b[0m\u001b[0;36m10\u001b[0m\u001b[0;34m)\u001b[0m\u001b[0;34m:\u001b[0m\u001b[0;34m\u001b[0m\u001b[0m\n\u001b[1;32m     88\u001b[0m                     \u001b[0;32mfor\u001b[0m \u001b[0mbatch\u001b[0m \u001b[0;32min\u001b[0m \u001b[0me\u001b[0m\u001b[0;34m.\u001b[0m\u001b[0mmap\u001b[0m\u001b[0;34m(\u001b[0m\u001b[0mself\u001b[0m\u001b[0;34m.\u001b[0m\u001b[0mget_batch\u001b[0m\u001b[0;34m,\u001b[0m \u001b[0mc\u001b[0m\u001b[0;34m)\u001b[0m\u001b[0;34m:\u001b[0m\u001b[0;34m\u001b[0m\u001b[0m\n\u001b[0;32m---> 89\u001b[0;31m                         \u001b[0;32myield\u001b[0m \u001b[0mget_tensor\u001b[0m\u001b[0;34m(\u001b[0m\u001b[0mbatch\u001b[0m\u001b[0;34m,\u001b[0m \u001b[0mself\u001b[0m\u001b[0;34m.\u001b[0m\u001b[0mpin_memory\u001b[0m\u001b[0;34m,\u001b[0m \u001b[0mself\u001b[0m\u001b[0;34m.\u001b[0m\u001b[0mhalf\u001b[0m\u001b[0;34m)\u001b[0m\u001b[0;34m\u001b[0m\u001b[0m\n\u001b[0m\u001b[1;32m     90\u001b[0m \u001b[0;34m\u001b[0m\u001b[0m\n",
      "\u001b[0;32m~/anaconda3/envs/dxzpy/lib/python3.6/site-packages/fastai/dataloader.py\u001b[0m in \u001b[0;36mget_tensor\u001b[0;34m(batch, pin, half)\u001b[0m\n\u001b[1;32m     18\u001b[0m         \u001b[0;32mreturn\u001b[0m \u001b[0;34m{\u001b[0m\u001b[0mk\u001b[0m\u001b[0;34m:\u001b[0m \u001b[0mget_tensor\u001b[0m\u001b[0;34m(\u001b[0m\u001b[0msample\u001b[0m\u001b[0;34m,\u001b[0m \u001b[0mpin\u001b[0m\u001b[0;34m,\u001b[0m \u001b[0mhalf\u001b[0m\u001b[0;34m)\u001b[0m \u001b[0;32mfor\u001b[0m \u001b[0mk\u001b[0m\u001b[0;34m,\u001b[0m \u001b[0msample\u001b[0m \u001b[0;32min\u001b[0m \u001b[0mbatch\u001b[0m\u001b[0;34m.\u001b[0m\u001b[0mitems\u001b[0m\u001b[0;34m(\u001b[0m\u001b[0;34m)\u001b[0m\u001b[0;34m}\u001b[0m\u001b[0;34m\u001b[0m\u001b[0m\n\u001b[1;32m     19\u001b[0m     \u001b[0;32melif\u001b[0m \u001b[0misinstance\u001b[0m\u001b[0;34m(\u001b[0m\u001b[0mbatch\u001b[0m\u001b[0;34m,\u001b[0m \u001b[0mcollections\u001b[0m\u001b[0;34m.\u001b[0m\u001b[0mSequence\u001b[0m\u001b[0;34m)\u001b[0m\u001b[0;34m:\u001b[0m\u001b[0;34m\u001b[0m\u001b[0m\n\u001b[0;32m---> 20\u001b[0;31m         \u001b[0;32mreturn\u001b[0m \u001b[0;34m[\u001b[0m\u001b[0mget_tensor\u001b[0m\u001b[0;34m(\u001b[0m\u001b[0msample\u001b[0m\u001b[0;34m,\u001b[0m \u001b[0mpin\u001b[0m\u001b[0;34m,\u001b[0m \u001b[0mhalf\u001b[0m\u001b[0;34m)\u001b[0m \u001b[0;32mfor\u001b[0m \u001b[0msample\u001b[0m \u001b[0;32min\u001b[0m \u001b[0mbatch\u001b[0m\u001b[0;34m]\u001b[0m\u001b[0;34m\u001b[0m\u001b[0m\n\u001b[0m\u001b[1;32m     21\u001b[0m     \u001b[0;32mraise\u001b[0m \u001b[0mTypeError\u001b[0m\u001b[0;34m(\u001b[0m\u001b[0;34mf\"batch must contain numbers, dicts or lists; found {type(batch)}\"\u001b[0m\u001b[0;34m)\u001b[0m\u001b[0;34m\u001b[0m\u001b[0m\n\u001b[1;32m     22\u001b[0m \u001b[0;34m\u001b[0m\u001b[0m\n",
      "\u001b[0;32m~/anaconda3/envs/dxzpy/lib/python3.6/site-packages/fastai/dataloader.py\u001b[0m in \u001b[0;36m<listcomp>\u001b[0;34m(.0)\u001b[0m\n\u001b[1;32m     18\u001b[0m         \u001b[0;32mreturn\u001b[0m \u001b[0;34m{\u001b[0m\u001b[0mk\u001b[0m\u001b[0;34m:\u001b[0m \u001b[0mget_tensor\u001b[0m\u001b[0;34m(\u001b[0m\u001b[0msample\u001b[0m\u001b[0;34m,\u001b[0m \u001b[0mpin\u001b[0m\u001b[0;34m,\u001b[0m \u001b[0mhalf\u001b[0m\u001b[0;34m)\u001b[0m \u001b[0;32mfor\u001b[0m \u001b[0mk\u001b[0m\u001b[0;34m,\u001b[0m \u001b[0msample\u001b[0m \u001b[0;32min\u001b[0m \u001b[0mbatch\u001b[0m\u001b[0;34m.\u001b[0m\u001b[0mitems\u001b[0m\u001b[0;34m(\u001b[0m\u001b[0;34m)\u001b[0m\u001b[0;34m}\u001b[0m\u001b[0;34m\u001b[0m\u001b[0m\n\u001b[1;32m     19\u001b[0m     \u001b[0;32melif\u001b[0m \u001b[0misinstance\u001b[0m\u001b[0;34m(\u001b[0m\u001b[0mbatch\u001b[0m\u001b[0;34m,\u001b[0m \u001b[0mcollections\u001b[0m\u001b[0;34m.\u001b[0m\u001b[0mSequence\u001b[0m\u001b[0;34m)\u001b[0m\u001b[0;34m:\u001b[0m\u001b[0;34m\u001b[0m\u001b[0m\n\u001b[0;32m---> 20\u001b[0;31m         \u001b[0;32mreturn\u001b[0m \u001b[0;34m[\u001b[0m\u001b[0mget_tensor\u001b[0m\u001b[0;34m(\u001b[0m\u001b[0msample\u001b[0m\u001b[0;34m,\u001b[0m \u001b[0mpin\u001b[0m\u001b[0;34m,\u001b[0m \u001b[0mhalf\u001b[0m\u001b[0;34m)\u001b[0m \u001b[0;32mfor\u001b[0m \u001b[0msample\u001b[0m \u001b[0;32min\u001b[0m \u001b[0mbatch\u001b[0m\u001b[0;34m]\u001b[0m\u001b[0;34m\u001b[0m\u001b[0m\n\u001b[0m\u001b[1;32m     21\u001b[0m     \u001b[0;32mraise\u001b[0m \u001b[0mTypeError\u001b[0m\u001b[0;34m(\u001b[0m\u001b[0;34mf\"batch must contain numbers, dicts or lists; found {type(batch)}\"\u001b[0m\u001b[0;34m)\u001b[0m\u001b[0;34m\u001b[0m\u001b[0m\n\u001b[1;32m     22\u001b[0m \u001b[0;34m\u001b[0m\u001b[0m\n",
      "\u001b[0;32m~/anaconda3/envs/dxzpy/lib/python3.6/site-packages/fastai/dataloader.py\u001b[0m in \u001b[0;36mget_tensor\u001b[0;34m(batch, pin, half)\u001b[0m\n\u001b[1;32m     12\u001b[0m         \u001b[0mbatch\u001b[0m \u001b[0;34m=\u001b[0m \u001b[0mT\u001b[0m\u001b[0;34m(\u001b[0m\u001b[0mbatch\u001b[0m\u001b[0;34m,\u001b[0m \u001b[0mhalf\u001b[0m\u001b[0;34m=\u001b[0m\u001b[0mhalf\u001b[0m\u001b[0;34m,\u001b[0m \u001b[0mcuda\u001b[0m\u001b[0;34m=\u001b[0m\u001b[0;32mFalse\u001b[0m\u001b[0;34m)\u001b[0m\u001b[0;34m.\u001b[0m\u001b[0mcontiguous\u001b[0m\u001b[0;34m(\u001b[0m\u001b[0;34m)\u001b[0m\u001b[0;34m\u001b[0m\u001b[0m\n\u001b[1;32m     13\u001b[0m         \u001b[0;32mif\u001b[0m \u001b[0mpin\u001b[0m\u001b[0;34m:\u001b[0m \u001b[0mbatch\u001b[0m \u001b[0;34m=\u001b[0m \u001b[0mbatch\u001b[0m\u001b[0;34m.\u001b[0m\u001b[0mpin_memory\u001b[0m\u001b[0;34m(\u001b[0m\u001b[0;34m)\u001b[0m\u001b[0;34m\u001b[0m\u001b[0m\n\u001b[0;32m---> 14\u001b[0;31m         \u001b[0;32mreturn\u001b[0m \u001b[0mto_gpu\u001b[0m\u001b[0;34m(\u001b[0m\u001b[0mbatch\u001b[0m\u001b[0;34m)\u001b[0m\u001b[0;34m\u001b[0m\u001b[0m\n\u001b[0m\u001b[1;32m     15\u001b[0m     \u001b[0;32melif\u001b[0m \u001b[0misinstance\u001b[0m\u001b[0;34m(\u001b[0m\u001b[0mbatch\u001b[0m\u001b[0;34m,\u001b[0m \u001b[0mstring_classes\u001b[0m\u001b[0;34m)\u001b[0m\u001b[0;34m:\u001b[0m\u001b[0;34m\u001b[0m\u001b[0m\n\u001b[1;32m     16\u001b[0m         \u001b[0;32mreturn\u001b[0m \u001b[0mbatch\u001b[0m\u001b[0;34m\u001b[0m\u001b[0m\n",
      "\u001b[0;32m~/anaconda3/envs/dxzpy/lib/python3.6/site-packages/fastai/core.py\u001b[0m in \u001b[0;36mto_gpu\u001b[0;34m(x, *args, **kwargs)\u001b[0m\n\u001b[1;32m     65\u001b[0m \u001b[0;32mdef\u001b[0m \u001b[0mto_gpu\u001b[0m\u001b[0;34m(\u001b[0m\u001b[0mx\u001b[0m\u001b[0;34m,\u001b[0m \u001b[0;34m*\u001b[0m\u001b[0margs\u001b[0m\u001b[0;34m,\u001b[0m \u001b[0;34m**\u001b[0m\u001b[0mkwargs\u001b[0m\u001b[0;34m)\u001b[0m\u001b[0;34m:\u001b[0m\u001b[0;34m\u001b[0m\u001b[0m\n\u001b[1;32m     66\u001b[0m     \u001b[0;34m'''puts pytorch variable to gpu, if cuda is avaialble and USE_GPU is set to true. '''\u001b[0m\u001b[0;34m\u001b[0m\u001b[0m\n\u001b[0;32m---> 67\u001b[0;31m     \u001b[0;32mreturn\u001b[0m \u001b[0mx\u001b[0m\u001b[0;34m.\u001b[0m\u001b[0mcuda\u001b[0m\u001b[0;34m(\u001b[0m\u001b[0;34m*\u001b[0m\u001b[0margs\u001b[0m\u001b[0;34m,\u001b[0m \u001b[0;34m**\u001b[0m\u001b[0mkwargs\u001b[0m\u001b[0;34m)\u001b[0m \u001b[0;32mif\u001b[0m \u001b[0mUSE_GPU\u001b[0m \u001b[0;32melse\u001b[0m \u001b[0mx\u001b[0m\u001b[0;34m\u001b[0m\u001b[0m\n\u001b[0m\u001b[1;32m     68\u001b[0m \u001b[0;34m\u001b[0m\u001b[0m\n\u001b[1;32m     69\u001b[0m \u001b[0;32mdef\u001b[0m \u001b[0mnoop\u001b[0m\u001b[0;34m(\u001b[0m\u001b[0;34m*\u001b[0m\u001b[0margs\u001b[0m\u001b[0;34m,\u001b[0m \u001b[0;34m**\u001b[0m\u001b[0mkwargs\u001b[0m\u001b[0;34m)\u001b[0m\u001b[0;34m:\u001b[0m \u001b[0;32mreturn\u001b[0m\u001b[0;34m\u001b[0m\u001b[0m\n",
      "\u001b[0;31mRuntimeError\u001b[0m: CUDA error: out of memory"
     ]
    }
   ],
   "source": [
    "nw = 2   #number of workers for data loader\n",
    "arch = resnet18 #specify target architecture\n",
    "\n",
    "bs = 4\n",
    "sz = 256\n",
    "md = get_data(sz,bs,is_test=True)\n",
    "\n",
    "x,y = next(iter(md.trn_dl))\n",
    "x.shape, y.shape"
   ]
  },
  {
   "cell_type": "code",
   "execution_count": null,
   "metadata": {
    "scrolled": true
   },
   "outputs": [],
   "source": [
    "def display_imgs(x):\n",
    "    columns = 4\n",
    "    bs = x.shape[0]\n",
    "    rows = min((bs+3)//4,4)\n",
    "    fig=plt.figure(figsize=(columns*4, rows*4))\n",
    "    for i in range(rows):\n",
    "        for j in range(columns):\n",
    "            idx = i+j*columns\n",
    "            fig.add_subplot(rows, columns, idx+1)\n",
    "            plt.axis('off')\n",
    "            plt.imshow((x[idx,:,:,:3]*255).astype(np.int))\n",
    "    plt.show()\n",
    "    \n",
    "display_imgs(np.asarray(md.trn_ds.denorm(x)))"
   ]
  },
  {
   "cell_type": "code",
   "execution_count": null,
   "metadata": {},
   "outputs": [],
   "source": [
    "\"\"\"\n",
    "x_tot = np.zeros(4)\n",
    "x2_tot = np.zeros(4)\n",
    "for x,y in tqdm(iter(md.trn_dl)):\n",
    "    tmp =  md.trn_ds.denorm(x).reshape(16,-1)\n",
    "    x = md.trn_ds.denorm(x).reshape(-1,4)\n",
    "    x_tot += x.mean(axis=0)\n",
    "    x2_tot += (x**2).mean(axis=0)\n",
    "\n",
    "channel_avr = x_tot/len(md.trn_dl)\n",
    "channel_std = np.sqrt(x2_tot/len(md.trn_dl) - channel_avr**2)\n",
    "channel_avr,channel_std\n",
    "\"\"\""
   ]
  },
  {
   "cell_type": "code",
   "execution_count": 13,
   "metadata": {},
   "outputs": [],
   "source": [
    "def acc(preds,targs,th=0.0):\n",
    "    preds = (preds > th).int()\n",
    "    targs = targs.int()\n",
    "    return (preds==targs).float().mean()"
   ]
  },
  {
   "cell_type": "code",
   "execution_count": 14,
   "metadata": {},
   "outputs": [],
   "source": [
    "class F1:\n",
    "    __name__ = 'F1 macro'\n",
    "    def __init__(self,n=28):\n",
    "        self.n = n\n",
    "        self.TP = np.zeros(self.n)\n",
    "        self.FP = np.zeros(self.n)\n",
    "        self.FN = np.zeros(self.n)\n",
    "\n",
    "    def __call__(self,preds,targs,th=0.0):\n",
    "        preds = (preds > th).int()\n",
    "        targs = targs.int()\n",
    "        self.TP += (preds*targs).float().sum(dim=0)\n",
    "        self.FP += (preds > targs).float().sum(dim=0)\n",
    "        self.FN += (preds < targs).float().sum(dim=0)\n",
    "        score = (2.0*self.TP/(2.0*self.TP + self.FP + self.FN + 1e-6)).mean()\n",
    "        return score\n",
    "\n",
    "    def reset(self):\n",
    "        #macro F1 score\n",
    "        score = (2.0*self.TP/(2.0*self.TP + self.FP + self.FN + 1e-6))\n",
    "        print('F1 macro:',score.mean(),flush=True)\n",
    "        #print('F1:',score)\n",
    "        self.TP = np.zeros(self.n)\n",
    "        self.FP = np.zeros(self.n)\n",
    "        self.FN = np.zeros(self.n)\n",
    "\n",
    "class F1_callback(Callback):\n",
    "    def __init__(self, n=28):\n",
    "        self.f1 = F1(n)\n",
    "\n",
    "    def on_epoch_end(self, metrics):\n",
    "        self.f1.reset()"
   ]
  },
  {
   "cell_type": "code",
   "execution_count": 15,
   "metadata": {
    "scrolled": true
   },
   "outputs": [
    {
     "ename": "RuntimeError",
     "evalue": "CUDA error: out of memory",
     "output_type": "error",
     "traceback": [
      "\u001b[0;31m---------------------------------------------------------------------------\u001b[0m",
      "\u001b[0;31mRuntimeError\u001b[0m                              Traceback (most recent call last)",
      "\u001b[0;32m<ipython-input-15-c1eaba9f9753>\u001b[0m in \u001b[0;36m<module>\u001b[0;34m()\u001b[0m\n\u001b[1;32m      5\u001b[0m \u001b[0;34m\u001b[0m\u001b[0m\n\u001b[1;32m      6\u001b[0m \u001b[0mmd\u001b[0m \u001b[0;34m=\u001b[0m \u001b[0mget_data\u001b[0m\u001b[0;34m(\u001b[0m\u001b[0msz\u001b[0m\u001b[0;34m,\u001b[0m\u001b[0mbs\u001b[0m\u001b[0;34m)\u001b[0m\u001b[0;34m\u001b[0m\u001b[0m\n\u001b[0;32m----> 7\u001b[0;31m \u001b[0mlearner\u001b[0m \u001b[0;34m=\u001b[0m \u001b[0mConvLearner\u001b[0m\u001b[0;34m.\u001b[0m\u001b[0mpretrained\u001b[0m\u001b[0;34m(\u001b[0m\u001b[0march\u001b[0m\u001b[0;34m,\u001b[0m \u001b[0mmd\u001b[0m\u001b[0;34m,\u001b[0m \u001b[0mps\u001b[0m\u001b[0;34m=\u001b[0m\u001b[0;36m0.5\u001b[0m\u001b[0;34m)\u001b[0m \u001b[0;31m#dropout 50%\u001b[0m\u001b[0;34m\u001b[0m\u001b[0m\n\u001b[0m\u001b[1;32m      8\u001b[0m \u001b[0mlearner\u001b[0m\u001b[0;34m.\u001b[0m\u001b[0mmodels\u001b[0m\u001b[0;34m.\u001b[0m\u001b[0mmodel\u001b[0m \u001b[0;34m=\u001b[0m \u001b[0mtorch\u001b[0m\u001b[0;34m.\u001b[0m\u001b[0mnn\u001b[0m\u001b[0;34m.\u001b[0m\u001b[0mDataParallel\u001b[0m\u001b[0;34m(\u001b[0m\u001b[0mlearner\u001b[0m\u001b[0;34m.\u001b[0m\u001b[0mmodels\u001b[0m\u001b[0;34m.\u001b[0m\u001b[0mmodel\u001b[0m\u001b[0;34m,\u001b[0m\u001b[0mdevice_ids\u001b[0m\u001b[0;34m=\u001b[0m\u001b[0;34m[\u001b[0m\u001b[0;36m0\u001b[0m\u001b[0;34m,\u001b[0m \u001b[0;36m1\u001b[0m\u001b[0;34m]\u001b[0m\u001b[0;34m)\u001b[0m\u001b[0;34m\u001b[0m\u001b[0m\n\u001b[1;32m      9\u001b[0m \u001b[0mlearner\u001b[0m\u001b[0;34m.\u001b[0m\u001b[0mopt_fn\u001b[0m \u001b[0;34m=\u001b[0m \u001b[0moptim\u001b[0m\u001b[0;34m.\u001b[0m\u001b[0mAdam\u001b[0m\u001b[0;34m\u001b[0m\u001b[0m\n",
      "\u001b[0;32m/media/usst/软件/dxzpy_data/HPA/newConvLearner.py\u001b[0m in \u001b[0;36mpretrained\u001b[0;34m(cls, f, data, ps, xtra_fc, xtra_cut, custom_head, precompute, pretrained, **kwargs)\u001b[0m\n\u001b[1;32m     83\u001b[0m                    pretrained=True, **kwargs):\n\u001b[1;32m     84\u001b[0m         models = ConvnetBuilder_custom(f, data.c, data.is_multi, data.is_reg,\n\u001b[0;32m---> 85\u001b[0;31m             ps=ps, xtra_fc=xtra_fc, xtra_cut=xtra_cut, custom_head=custom_head, pretrained=pretrained)\n\u001b[0m\u001b[1;32m     86\u001b[0m         \u001b[0;32mreturn\u001b[0m \u001b[0mcls\u001b[0m\u001b[0;34m(\u001b[0m\u001b[0mdata\u001b[0m\u001b[0;34m,\u001b[0m \u001b[0mmodels\u001b[0m\u001b[0;34m,\u001b[0m \u001b[0mprecompute\u001b[0m\u001b[0;34m,\u001b[0m \u001b[0;34m**\u001b[0m\u001b[0mkwargs\u001b[0m\u001b[0;34m)\u001b[0m\u001b[0;34m\u001b[0m\u001b[0m\n\u001b[1;32m     87\u001b[0m \u001b[0;34m\u001b[0m\u001b[0m\n",
      "\u001b[0;32m/media/usst/软件/dxzpy_data/HPA/newConvLearner.py\u001b[0m in \u001b[0;36m__init__\u001b[0;34m(self, f, c, is_multi, is_reg, ps, xtra_fc, xtra_cut, custom_head, pretrained)\u001b[0m\n\u001b[1;32m     30\u001b[0m         \u001b[0;32melse\u001b[0m\u001b[0;34m:\u001b[0m \u001b[0mfc_layers\u001b[0m \u001b[0;34m=\u001b[0m \u001b[0mself\u001b[0m\u001b[0;34m.\u001b[0m\u001b[0mget_fc_layers\u001b[0m\u001b[0;34m(\u001b[0m\u001b[0;34m)\u001b[0m\u001b[0;34m\u001b[0m\u001b[0m\n\u001b[1;32m     31\u001b[0m         \u001b[0mself\u001b[0m\u001b[0;34m.\u001b[0m\u001b[0mn_fc\u001b[0m \u001b[0;34m=\u001b[0m \u001b[0mlen\u001b[0m\u001b[0;34m(\u001b[0m\u001b[0mfc_layers\u001b[0m\u001b[0;34m)\u001b[0m\u001b[0;34m\u001b[0m\u001b[0m\n\u001b[0;32m---> 32\u001b[0;31m         \u001b[0mself\u001b[0m\u001b[0;34m.\u001b[0m\u001b[0mfc_model\u001b[0m \u001b[0;34m=\u001b[0m \u001b[0mto_gpu\u001b[0m\u001b[0;34m(\u001b[0m\u001b[0mnn\u001b[0m\u001b[0;34m.\u001b[0m\u001b[0mSequential\u001b[0m\u001b[0;34m(\u001b[0m\u001b[0;34m*\u001b[0m\u001b[0mfc_layers\u001b[0m\u001b[0;34m)\u001b[0m\u001b[0;34m)\u001b[0m\u001b[0;34m\u001b[0m\u001b[0m\n\u001b[0m\u001b[1;32m     33\u001b[0m         \u001b[0;32mif\u001b[0m \u001b[0;32mnot\u001b[0m \u001b[0mcustom_head\u001b[0m\u001b[0;34m:\u001b[0m \u001b[0mapply_init\u001b[0m\u001b[0;34m(\u001b[0m\u001b[0mself\u001b[0m\u001b[0;34m.\u001b[0m\u001b[0mfc_model\u001b[0m\u001b[0;34m,\u001b[0m \u001b[0mkaiming_normal\u001b[0m\u001b[0;34m)\u001b[0m\u001b[0;34m\u001b[0m\u001b[0m\n\u001b[1;32m     34\u001b[0m         \u001b[0mself\u001b[0m\u001b[0;34m.\u001b[0m\u001b[0mmodel\u001b[0m \u001b[0;34m=\u001b[0m \u001b[0mto_gpu\u001b[0m\u001b[0;34m(\u001b[0m\u001b[0mnn\u001b[0m\u001b[0;34m.\u001b[0m\u001b[0mSequential\u001b[0m\u001b[0;34m(\u001b[0m\u001b[0;34m*\u001b[0m\u001b[0;34m(\u001b[0m\u001b[0mlayers\u001b[0m\u001b[0;34m+\u001b[0m\u001b[0mfc_layers\u001b[0m\u001b[0;34m)\u001b[0m\u001b[0;34m)\u001b[0m\u001b[0;34m)\u001b[0m\u001b[0;34m\u001b[0m\u001b[0m\n",
      "\u001b[0;32m~/anaconda3/envs/dxzpy/lib/python3.6/site-packages/fastai/core.py\u001b[0m in \u001b[0;36mto_gpu\u001b[0;34m(x, *args, **kwargs)\u001b[0m\n\u001b[1;32m     65\u001b[0m \u001b[0;32mdef\u001b[0m \u001b[0mto_gpu\u001b[0m\u001b[0;34m(\u001b[0m\u001b[0mx\u001b[0m\u001b[0;34m,\u001b[0m \u001b[0;34m*\u001b[0m\u001b[0margs\u001b[0m\u001b[0;34m,\u001b[0m \u001b[0;34m**\u001b[0m\u001b[0mkwargs\u001b[0m\u001b[0;34m)\u001b[0m\u001b[0;34m:\u001b[0m\u001b[0;34m\u001b[0m\u001b[0m\n\u001b[1;32m     66\u001b[0m     \u001b[0;34m'''puts pytorch variable to gpu, if cuda is avaialble and USE_GPU is set to true. '''\u001b[0m\u001b[0;34m\u001b[0m\u001b[0m\n\u001b[0;32m---> 67\u001b[0;31m     \u001b[0;32mreturn\u001b[0m \u001b[0mx\u001b[0m\u001b[0;34m.\u001b[0m\u001b[0mcuda\u001b[0m\u001b[0;34m(\u001b[0m\u001b[0;34m*\u001b[0m\u001b[0margs\u001b[0m\u001b[0;34m,\u001b[0m \u001b[0;34m**\u001b[0m\u001b[0mkwargs\u001b[0m\u001b[0;34m)\u001b[0m \u001b[0;32mif\u001b[0m \u001b[0mUSE_GPU\u001b[0m \u001b[0;32melse\u001b[0m \u001b[0mx\u001b[0m\u001b[0;34m\u001b[0m\u001b[0m\n\u001b[0m\u001b[1;32m     68\u001b[0m \u001b[0;34m\u001b[0m\u001b[0m\n\u001b[1;32m     69\u001b[0m \u001b[0;32mdef\u001b[0m \u001b[0mnoop\u001b[0m\u001b[0;34m(\u001b[0m\u001b[0;34m*\u001b[0m\u001b[0margs\u001b[0m\u001b[0;34m,\u001b[0m \u001b[0;34m**\u001b[0m\u001b[0mkwargs\u001b[0m\u001b[0;34m)\u001b[0m\u001b[0;34m:\u001b[0m \u001b[0;32mreturn\u001b[0m\u001b[0;34m\u001b[0m\u001b[0m\n",
      "\u001b[0;32m~/anaconda3/envs/dxzpy/lib/python3.6/site-packages/torch/nn/modules/module.py\u001b[0m in \u001b[0;36mcuda\u001b[0;34m(self, device)\u001b[0m\n\u001b[1;32m    256\u001b[0m             \u001b[0mModule\u001b[0m\u001b[0;34m:\u001b[0m \u001b[0mself\u001b[0m\u001b[0;34m\u001b[0m\u001b[0m\n\u001b[1;32m    257\u001b[0m         \"\"\"\n\u001b[0;32m--> 258\u001b[0;31m         \u001b[0;32mreturn\u001b[0m \u001b[0mself\u001b[0m\u001b[0;34m.\u001b[0m\u001b[0m_apply\u001b[0m\u001b[0;34m(\u001b[0m\u001b[0;32mlambda\u001b[0m \u001b[0mt\u001b[0m\u001b[0;34m:\u001b[0m \u001b[0mt\u001b[0m\u001b[0;34m.\u001b[0m\u001b[0mcuda\u001b[0m\u001b[0;34m(\u001b[0m\u001b[0mdevice\u001b[0m\u001b[0;34m)\u001b[0m\u001b[0;34m)\u001b[0m\u001b[0;34m\u001b[0m\u001b[0m\n\u001b[0m\u001b[1;32m    259\u001b[0m \u001b[0;34m\u001b[0m\u001b[0m\n\u001b[1;32m    260\u001b[0m     \u001b[0;32mdef\u001b[0m \u001b[0mcpu\u001b[0m\u001b[0;34m(\u001b[0m\u001b[0mself\u001b[0m\u001b[0;34m)\u001b[0m\u001b[0;34m:\u001b[0m\u001b[0;34m\u001b[0m\u001b[0m\n",
      "\u001b[0;32m~/anaconda3/envs/dxzpy/lib/python3.6/site-packages/torch/nn/modules/module.py\u001b[0m in \u001b[0;36m_apply\u001b[0;34m(self, fn)\u001b[0m\n\u001b[1;32m    183\u001b[0m     \u001b[0;32mdef\u001b[0m \u001b[0m_apply\u001b[0m\u001b[0;34m(\u001b[0m\u001b[0mself\u001b[0m\u001b[0;34m,\u001b[0m \u001b[0mfn\u001b[0m\u001b[0;34m)\u001b[0m\u001b[0;34m:\u001b[0m\u001b[0;34m\u001b[0m\u001b[0m\n\u001b[1;32m    184\u001b[0m         \u001b[0;32mfor\u001b[0m \u001b[0mmodule\u001b[0m \u001b[0;32min\u001b[0m \u001b[0mself\u001b[0m\u001b[0;34m.\u001b[0m\u001b[0mchildren\u001b[0m\u001b[0;34m(\u001b[0m\u001b[0;34m)\u001b[0m\u001b[0;34m:\u001b[0m\u001b[0;34m\u001b[0m\u001b[0m\n\u001b[0;32m--> 185\u001b[0;31m             \u001b[0mmodule\u001b[0m\u001b[0;34m.\u001b[0m\u001b[0m_apply\u001b[0m\u001b[0;34m(\u001b[0m\u001b[0mfn\u001b[0m\u001b[0;34m)\u001b[0m\u001b[0;34m\u001b[0m\u001b[0m\n\u001b[0m\u001b[1;32m    186\u001b[0m \u001b[0;34m\u001b[0m\u001b[0m\n\u001b[1;32m    187\u001b[0m         \u001b[0;32mfor\u001b[0m \u001b[0mparam\u001b[0m \u001b[0;32min\u001b[0m \u001b[0mself\u001b[0m\u001b[0;34m.\u001b[0m\u001b[0m_parameters\u001b[0m\u001b[0;34m.\u001b[0m\u001b[0mvalues\u001b[0m\u001b[0;34m(\u001b[0m\u001b[0;34m)\u001b[0m\u001b[0;34m:\u001b[0m\u001b[0;34m\u001b[0m\u001b[0m\n",
      "\u001b[0;32m~/anaconda3/envs/dxzpy/lib/python3.6/site-packages/torch/nn/modules/module.py\u001b[0m in \u001b[0;36m_apply\u001b[0;34m(self, fn)\u001b[0m\n\u001b[1;32m    189\u001b[0m                 \u001b[0;31m# Tensors stored in modules are graph leaves, and we don't\u001b[0m\u001b[0;34m\u001b[0m\u001b[0;34m\u001b[0m\u001b[0m\n\u001b[1;32m    190\u001b[0m                 \u001b[0;31m# want to create copy nodes, so we have to unpack the data.\u001b[0m\u001b[0;34m\u001b[0m\u001b[0;34m\u001b[0m\u001b[0m\n\u001b[0;32m--> 191\u001b[0;31m                 \u001b[0mparam\u001b[0m\u001b[0;34m.\u001b[0m\u001b[0mdata\u001b[0m \u001b[0;34m=\u001b[0m \u001b[0mfn\u001b[0m\u001b[0;34m(\u001b[0m\u001b[0mparam\u001b[0m\u001b[0;34m.\u001b[0m\u001b[0mdata\u001b[0m\u001b[0;34m)\u001b[0m\u001b[0;34m\u001b[0m\u001b[0m\n\u001b[0m\u001b[1;32m    192\u001b[0m                 \u001b[0;32mif\u001b[0m \u001b[0mparam\u001b[0m\u001b[0;34m.\u001b[0m\u001b[0m_grad\u001b[0m \u001b[0;32mis\u001b[0m \u001b[0;32mnot\u001b[0m \u001b[0;32mNone\u001b[0m\u001b[0;34m:\u001b[0m\u001b[0;34m\u001b[0m\u001b[0m\n\u001b[1;32m    193\u001b[0m                     \u001b[0mparam\u001b[0m\u001b[0;34m.\u001b[0m\u001b[0m_grad\u001b[0m\u001b[0;34m.\u001b[0m\u001b[0mdata\u001b[0m \u001b[0;34m=\u001b[0m \u001b[0mfn\u001b[0m\u001b[0;34m(\u001b[0m\u001b[0mparam\u001b[0m\u001b[0;34m.\u001b[0m\u001b[0m_grad\u001b[0m\u001b[0;34m.\u001b[0m\u001b[0mdata\u001b[0m\u001b[0;34m)\u001b[0m\u001b[0;34m\u001b[0m\u001b[0m\n",
      "\u001b[0;32m~/anaconda3/envs/dxzpy/lib/python3.6/site-packages/torch/nn/modules/module.py\u001b[0m in \u001b[0;36m<lambda>\u001b[0;34m(t)\u001b[0m\n\u001b[1;32m    256\u001b[0m             \u001b[0mModule\u001b[0m\u001b[0;34m:\u001b[0m \u001b[0mself\u001b[0m\u001b[0;34m\u001b[0m\u001b[0m\n\u001b[1;32m    257\u001b[0m         \"\"\"\n\u001b[0;32m--> 258\u001b[0;31m         \u001b[0;32mreturn\u001b[0m \u001b[0mself\u001b[0m\u001b[0;34m.\u001b[0m\u001b[0m_apply\u001b[0m\u001b[0;34m(\u001b[0m\u001b[0;32mlambda\u001b[0m \u001b[0mt\u001b[0m\u001b[0;34m:\u001b[0m \u001b[0mt\u001b[0m\u001b[0;34m.\u001b[0m\u001b[0mcuda\u001b[0m\u001b[0;34m(\u001b[0m\u001b[0mdevice\u001b[0m\u001b[0;34m)\u001b[0m\u001b[0;34m)\u001b[0m\u001b[0;34m\u001b[0m\u001b[0m\n\u001b[0m\u001b[1;32m    259\u001b[0m \u001b[0;34m\u001b[0m\u001b[0m\n\u001b[1;32m    260\u001b[0m     \u001b[0;32mdef\u001b[0m \u001b[0mcpu\u001b[0m\u001b[0;34m(\u001b[0m\u001b[0mself\u001b[0m\u001b[0;34m)\u001b[0m\u001b[0;34m:\u001b[0m\u001b[0;34m\u001b[0m\u001b[0m\n",
      "\u001b[0;31mRuntimeError\u001b[0m: CUDA error: out of memory"
     ]
    }
   ],
   "source": [
    "from newConvLearner import ConvLearner\n",
    "\n",
    "sz = 512 #image size\n",
    "bs = 64  #batch size\n",
    "\n",
    "md = get_data(sz,bs)\n",
    "learner = ConvLearner.pretrained(arch, md, ps=0.5) #dropout 50%\n",
    "learner.models.model = torch.nn.DataParallel(learner.models.model,device_ids=[0, 1])\n",
    "learner.opt_fn = optim.Adam\n",
    "learner.clip = 1.0 #gradient clipping\n",
    "learner.crit = nn.BCEWithLogitsLoss()\n",
    "f1_callback = F1_callback()\n",
    "learner.metrics = [acc,f1_callback.f1]\n",
    "learner.summary"
   ]
  },
  {
   "cell_type": "code",
   "execution_count": null,
   "metadata": {},
   "outputs": [],
   "source": [
    "lr = 0.5e-2\n",
    "\n",
    "learner.unfreeze()\n",
    "lrs=np.array([lr/10,lr/3,lr])"
   ]
  },
  {
   "cell_type": "code",
   "execution_count": null,
   "metadata": {},
   "outputs": [],
   "source": [
    "learner.load('./res18_1/ResNet18_512_1')"
   ]
  },
  {
   "cell_type": "code",
   "execution_count": 20,
   "metadata": {
    "scrolled": true
   },
   "outputs": [
    {
     "data": {
      "application/vnd.jupyter.widget-view+json": {
       "model_id": "5ad382c643784e1c86cba6da3de271c2",
       "version_major": 2,
       "version_minor": 0
      },
      "text/html": [
       "<p>Failed to display Jupyter Widget of type <code>HBox</code>.</p>\n",
       "<p>\n",
       "  If you're reading this message in the Jupyter Notebook or JupyterLab Notebook, it may mean\n",
       "  that the widgets JavaScript is still loading. If this message persists, it\n",
       "  likely means that the widgets JavaScript library is either not installed or\n",
       "  not enabled. See the <a href=\"https://ipywidgets.readthedocs.io/en/stable/user_install.html\">Jupyter\n",
       "  Widgets Documentation</a> for setup instructions.\n",
       "</p>\n",
       "<p>\n",
       "  If you're reading this message in another frontend (for example, a static\n",
       "  rendering on GitHub or <a href=\"https://nbviewer.jupyter.org/\">NBViewer</a>),\n",
       "  it may mean that your frontend doesn't currently support widgets.\n",
       "</p>\n"
      ],
      "text/plain": [
       "HBox(children=(IntProgress(value=0, description='Epoch', max=8, style=ProgressStyle(description_width='initial')), HTML(value='')))"
      ]
     },
     "metadata": {},
     "output_type": "display_data"
    },
    {
     "name": "stdout",
     "output_type": "stream",
     "text": [
      "F1 macro: 0.6239902545697701                                  \n",
      "epoch      trn_loss   val_loss   acc        F1 macro   \n",
      "    0      0.089626   0.07735    0.972867   0.597148  \n",
      "F1 macro: 0.6590326408709688                                  \n",
      "    1      0.085869   0.073699   0.973384   0.634945  \n",
      "F1 macro: 0.6612578426465088                                  \n",
      "    2      0.082316   0.072751   0.97347    0.636117  \n",
      "F1 macro: 0.6657989638088244                                  \n",
      "    3      0.081423   0.07234    0.973683   0.6429    \n",
      "F1 macro: 0.666082298345347                                   \n",
      "    4      0.082906   0.072338   0.973275   0.645461  \n",
      "F1 macro: 0.6713825974195557                                  \n",
      "    5      0.081148   0.07145    0.974051   0.650746  \n",
      "F1 macro: 0.6685030430372718                                  \n",
      "    6      0.078176   0.070843   0.973849   0.650521  \n",
      "F1 macro: 0.6722166627091825                                  \n",
      "    7      0.078335   0.070802   0.97412    0.655005  \n",
      "\n"
     ]
    }
   ],
   "source": [
    "with warnings.catch_warnings():\n",
    "    warnings.simplefilter(\"ignore\")\n",
    "    learner.fit(lrs/16,2,cycle_len=4,use_clr=(10,20),callbacks=[f1_callback])"
   ]
  },
  {
   "cell_type": "code",
   "execution_count": 21,
   "metadata": {},
   "outputs": [],
   "source": [
    "learner.save('./KF/KF_%s'%KF_num)"
   ]
  },
  {
   "cell_type": "code",
   "execution_count": 22,
   "metadata": {},
   "outputs": [
    {
     "data": {
      "image/png": "[encoded data removed]",
      "text/plain": [
       "<Figure size 432x288 with 1 Axes>"
      ]
     },
     "metadata": {},
     "output_type": "display_data"
    }
   ],
   "source": [
    "learner.sched.plot_lr()"
   ]
  },
  {
   "cell_type": "code",
   "execution_count": 23,
   "metadata": {
    "scrolled": true
   },
   "outputs": [
    {
     "data": {
      "application/vnd.jupyter.widget-view+json": {
       "model_id": "2d09909eb2554187ade47a9f921173a0",
       "version_major": 2,
       "version_minor": 0
      },
      "text/html": [
       "<p>Failed to display Jupyter Widget of type <code>HBox</code>.</p>\n",
       "<p>\n",
       "  If you're reading this message in the Jupyter Notebook or JupyterLab Notebook, it may mean\n",
       "  that the widgets JavaScript is still loading. If this message persists, it\n",
       "  likely means that the widgets JavaScript library is either not installed or\n",
       "  not enabled. See the <a href=\"https://ipywidgets.readthedocs.io/en/stable/user_install.html\">Jupyter\n",
       "  Widgets Documentation</a> for setup instructions.\n",
       "</p>\n",
       "<p>\n",
       "  If you're reading this message in another frontend (for example, a static\n",
       "  rendering on GitHub or <a href=\"https://nbviewer.jupyter.org/\">NBViewer</a>),\n",
       "  it may mean that your frontend doesn't currently support widgets.\n",
       "</p>\n"
      ],
      "text/plain": [
       "HBox(children=(IntProgress(value=0, description='Epoch', max=8, style=ProgressStyle(description_width='initial')), HTML(value='')))"
      ]
     },
     "metadata": {},
     "output_type": "display_data"
    },
    {
     "name": "stdout",
     "output_type": "stream",
     "text": [
      "F1 macro: 0.6754610384348078                                  \n",
      "epoch      trn_loss   val_loss   acc        F1 macro   \n",
      "    0      0.077656   0.071457   0.973786   0.654903  \n",
      "F1 macro: 0.681773248388598                                   \n",
      "    1      0.077849   0.07045    0.974143   0.663328  \n",
      "F1 macro: 0.6826615576105833                                  \n",
      "    2      0.075978   0.070915   0.974056   0.662942  \n",
      "F1 macro: 0.6759819018695372                                  \n",
      "    3      0.076732   0.070319   0.974062   0.655105  \n",
      "F1 macro: 0.681971601450009                                   \n",
      "    4      0.077024   0.06957    0.974574   0.659956  \n",
      "F1 macro: 0.676304297401983                                   \n",
      "    5      0.074617   0.06985    0.974292   0.661298  \n",
      "F1 macro: 0.6761363024668942                                  \n",
      "    6      0.074553   0.069503   0.974309   0.660006  \n",
      "F1 macro: 0.6751608951520888                                  \n",
      "    7      0.074937   0.070012   0.974212   0.656956  \n",
      "\n"
     ]
    }
   ],
   "source": [
    "with warnings.catch_warnings():\n",
    "    warnings.simplefilter(\"ignore\")\n",
    "    learner.fit(lrs/32,1,cycle_len=8,use_clr=(10,20),callbacks=[f1_callback])"
   ]
  },
  {
   "cell_type": "code",
   "execution_count": 24,
   "metadata": {},
   "outputs": [],
   "source": [
    "learner.save('./KF/KF_%s'%KF_num)"
   ]
  },
  {
   "cell_type": "code",
   "execution_count": 25,
   "metadata": {},
   "outputs": [
    {
     "name": "stdout",
     "output_type": "stream",
     "text": [
      "                                              \r"
     ]
    }
   ],
   "source": [
    "preds_t,y_t = learner.TTA(n_aug=4,is_test=True)\n",
    "preds_t = np.stack(preds_t, axis=-1)\n",
    "pred_t = preds_t.mean(axis=-1)\n",
    "np.save('./KF_2/KF_%s.npy'%KF_num,pred_t)"
   ]
  },
  {
   "cell_type": "code",
   "execution_count": 16,
   "metadata": {},
   "outputs": [],
   "source": [
    "#60 44 37 51 50\n",
    "pre_1 = np.load('./KF_2/KF_1.npy')\n",
    "pre_2 = np.load('./KF_2/KF_2.npy')\n",
    "pre_3 = np.load('./KF_2/KF_3.npy')\n",
    "pre_4 = np.load('./KF_2/KF_4.npy')\n",
    "pre_5 = np.load('./KF_2/KF_5.npy')\n",
    "#pred_t = (pre_1*60+pre_2*44+pre_3*37+pre_4*51+pre_5*50)/(sum([60,44,37,51,50]))"
   ]
  },
  {
   "cell_type": "code",
   "execution_count": 19,
   "metadata": {},
   "outputs": [],
   "source": [
    "pred_t = sigmoid_np(pre_1)+sigmoid_np(pre_2)+sigmoid_np(pre_3)+sigmoid_np(pre_4)+sigmoid_np(pre_5)"
   ]
  },
  {
   "cell_type": "code",
   "execution_count": 23,
   "metadata": {},
   "outputs": [
    {
     "name": "stdout",
     "output_type": "stream",
     "text": [
      "                                             \r"
     ]
    }
   ],
   "source": [
    "md = get_data(sz,bs,is_test=True)\n",
    "learner.set_data(md)\n",
    "preds,y = learner.TTA(n_aug=8)\n",
    "preds = np.stack(preds, axis=-1)\n",
    "pred = preds.mean(axis=-1)"
   ]
  },
  {
   "cell_type": "code",
   "execution_count": 17,
   "metadata": {},
   "outputs": [],
   "source": [
    "def sigmoid_np(x):\n",
    "    return 1.0/(1.0 + np.exp(-x))\n",
    "\n",
    "def F1_soft(preds,targs,th=0.0,d=25.0):\n",
    "    preds = sigmoid_np(d*(preds - th))\n",
    "    targs = targs.astype(np.float)\n",
    "    score = 2.0*(preds*targs).sum(axis=0)/((preds+targs).sum(axis=0) + 1e-6)\n",
    "    return score\n",
    "\n",
    "def fit_val(x,y):\n",
    "    params = np.zeros(len(name_label_dict))\n",
    "    wd = 1e-5\n",
    "    error = lambda p: np.concatenate((F1_soft(x,y,p) - 1.0,\n",
    "                                      wd*p), axis=None)\n",
    "    p, success = opt.leastsq(error, params)\n",
    "    return p"
   ]
  },
  {
   "cell_type": "code",
   "execution_count": 24,
   "metadata": {},
   "outputs": [
    {
     "name": "stderr",
     "output_type": "stream",
     "text": [
      "/home/usst/anaconda3/envs/dxzpy/lib/python3.6/site-packages/ipykernel_launcher.py:2: RuntimeWarning: overflow encountered in exp\n",
      "  \n"
     ]
    },
    {
     "name": "stdout",
     "output_type": "stream",
     "text": [
      "Thresholds:  [-0.1594  -0.17874 -0.29031 -0.24069 -0.12672 -0.23908 -0.29989  0.00111 -0.25861  0.43281  0.39961 -0.47267\n",
      " -0.15512 -0.41161  0.02072 -0.33834 -0.4241   0.18588 -0.32208 -0.37336 -0.32684 -0.33869 -0.28217 -0.3701\n",
      "  0.14796 -0.20674 -0.1839   1.40617]\n",
      "F1 macro:  0.7056047755838544\n",
      "F1 macro (th = 0.0):  0.6656417551788607\n",
      "F1 micro:  0.7560245472234696\n"
     ]
    },
    {
     "name": "stderr",
     "output_type": "stream",
     "text": [
      "/home/usst/anaconda3/envs/dxzpy/lib/python3.6/site-packages/scipy/optimize/minpack.py:436: RuntimeWarning: Number of calls to function has reached maxfev = 5800.\n",
      "  warnings.warn(errors[info][0], RuntimeWarning)\n"
     ]
    }
   ],
   "source": [
    "th = fit_val(pred,y)\n",
    "print('Thresholds: ',th)\n",
    "print('F1 macro: ',f1_score(y, pred>th, average='macro'))\n",
    "print('F1 macro (th = 0.0): ',f1_score(y, pred>0.0, average='macro'))\n",
    "print('F1 micro: ',f1_score(y, pred>th, average='micro'))"
   ]
  },
  {
   "cell_type": "code",
   "execution_count": 25,
   "metadata": {},
   "outputs": [
    {
     "name": "stderr",
     "output_type": "stream",
     "text": [
      "/home/usst/anaconda3/envs/dxzpy/lib/python3.6/site-packages/ipykernel_launcher.py:2: RuntimeWarning: overflow encountered in exp\n",
      "  \n",
      "/home/usst/anaconda3/envs/dxzpy/lib/python3.6/site-packages/scipy/optimize/minpack.py:436: RuntimeWarning: Number of calls to function has reached maxfev = 5800.\n",
      "  warnings.warn(errors[info][0], RuntimeWarning)\n",
      "/home/usst/anaconda3/envs/dxzpy/lib/python3.6/site-packages/sklearn/metrics/classification.py:1135: UndefinedMetricWarning: F-score is ill-defined and being set to 0.0 in labels with no predicted samples.\n",
      "  'precision', 'predicted', average, warn_for)\n"
     ]
    },
    {
     "name": "stdout",
     "output_type": "stream",
     "text": [
      "Thresholds:  [-0.10171 -0.12348 -0.2885  -0.29116 -0.15817 -0.25156 -0.24378 -0.08439 -0.25896  0.41512  0.3489  -0.29194\n",
      " -0.22653 -0.41917  0.14531 -0.06644 -0.42342  0.21369 -0.3292  -0.36718 -0.28692 -0.31433 -0.30114 -0.38166\n",
      "  0.06506 -0.20152 -0.19993  0.06627]\n",
      "F1 macro avr: 0.6779722397206621\n",
      "F1 macro:  0.6982649617365662\n",
      "F1 micro:  0.7544451946882736\n"
     ]
    }
   ],
   "source": [
    "from sklearn.model_selection import train_test_split\n",
    "th, score, cv = 0,0,10\n",
    "for i in range(cv):\n",
    "    xt,xv,yt,yv = train_test_split(pred,y,test_size=0.5,random_state=i)\n",
    "    th_i = fit_val(xt,yt)\n",
    "    th += th_i\n",
    "    score += f1_score(yv, xv>th_i, average='macro')\n",
    "th/=cv\n",
    "score/=cv\n",
    "print('Thresholds: ',th)\n",
    "print('F1 macro avr:',score)\n",
    "print('F1 macro: ',f1_score(y, pred>th, average='macro'))\n",
    "print('F1 micro: ',f1_score(y, pred>th, average='micro'))"
   ]
  },
  {
   "cell_type": "code",
   "execution_count": 26,
   "metadata": {},
   "outputs": [
    {
     "name": "stdout",
     "output_type": "stream",
     "text": [
      "Fractions:  [0.38501 0.03348 0.08859 0.0461  0.05305 0.0582  0.0255  0.07134 0.00515 0.00438 0.00386 0.02627 0.05408\n",
      " 0.03039 0.0291  0.00026 0.02936 0.00412 0.04687 0.03992 0.0103  0.15426 0.08035 0.07211 0.00773 0.32629\n",
      " 0.01262 0.00103]\n",
      "Fractions (true):  [0.37342 0.0376  0.09426 0.04739 0.05743 0.06953 0.02627 0.07649 0.00773 0.00515 0.00464 0.02936 0.06567\n",
      " 0.04507 0.03554 0.00129 0.03296 0.01159 0.05048 0.04121 0.01107 0.13984 0.07906 0.07777 0.00953 0.28097\n",
      " 0.01828 0.00335]\n"
     ]
    }
   ],
   "source": [
    "print('Fractions: ',(pred > th).mean(axis=0))\n",
    "print('Fractions (true): ',(y > 0.5).mean(axis=0))"
   ]
  },
  {
   "cell_type": "code",
   "execution_count": 27,
   "metadata": {},
   "outputs": [
    {
     "name": "stdout",
     "output_type": "stream",
     "text": [
      "Nucleoplasm 0 0.8434634974533106 -0.10170730453031421\n"
     ]
    },
    {
     "data": {
      "image/png": "[encoded data removed]",
      "text/plain": [
       "<Figure size 432x288 with 1 Axes>"
      ]
     },
     "metadata": {},
     "output_type": "display_data"
    },
    {
     "name": "stdout",
     "output_type": "stream",
     "text": [
      "Nuclear membrane 1 0.8840579710144928 -0.12347626037718033\n"
     ]
    },
    {
     "data": {
      "image/png": "[encoded data removed]",
      "text/plain": [
       "<Figure size 432x288 with 1 Axes>"
      ]
     },
     "metadata": {},
     "output_type": "display_data"
    },
    {
     "name": "stdout",
     "output_type": "stream",
     "text": [
      "Nucleoli 2 0.7999999999999999 -0.28850459467507206\n"
     ]
    },
    {
     "data": {
      "image/png": "[encoded data removed]",
      "text/plain": [
       "<Figure size 432x288 with 1 Axes>"
      ]
     },
     "metadata": {},
     "output_type": "display_data"
    },
    {
     "name": "stdout",
     "output_type": "stream",
     "text": [
      "Nucleoli fibrillar center 3 0.765840220385675 -0.291158696908907\n"
     ]
    },
    {
     "data": {
      "image/png": "[encoded data removed]",
      "text/plain": [
       "<Figure size 432x288 with 1 Axes>"
      ]
     },
     "metadata": {},
     "output_type": "display_data"
    },
    {
     "name": "stdout",
     "output_type": "stream",
     "text": [
      "Nuclear speckles 4 0.8018648018648018 -0.15816715568378664\n"
     ]
    },
    {
     "data": {
      "image/png": "[encoded data removed]",
      "text/plain": [
       "<Figure size 432x288 with 1 Axes>"
      ]
     },
     "metadata": {},
     "output_type": "display_data"
    },
    {
     "name": "stdout",
     "output_type": "stream",
     "text": [
      "Nuclear bodies 5 0.7379032258064516 -0.2515637730722487\n"
     ]
    },
    {
     "data": {
      "image/png": "[encoded data removed]",
      "text/plain": [
       "<Figure size 432x288 with 1 Axes>"
      ]
     },
     "metadata": {},
     "output_type": "display_data"
    },
    {
     "name": "stdout",
     "output_type": "stream",
     "text": [
      "Endoplasmic reticulum 6 0.7562189054726367 -0.2437761126696781\n"
     ]
    },
    {
     "data": {
      "image/png": "[encoded data removed]",
      "text/plain": [
       "<Figure size 432x288 with 1 Axes>"
      ]
     },
     "metadata": {},
     "output_type": "display_data"
    },
    {
     "name": "stdout",
     "output_type": "stream",
     "text": [
      "Golgi apparatus 7 0.7979094076655052 -0.08439357918568113\n"
     ]
    },
    {
     "data": {
      "image/png": "[encoded data removed]",
      "text/plain": [
       "<Figure size 432x288 with 1 Axes>"
      ]
     },
     "metadata": {},
     "output_type": "display_data"
    },
    {
     "name": "stdout",
     "output_type": "stream",
     "text": [
      "Peroxisomes 8 0.7599999999999999 -0.2589622427101036\n"
     ]
    },
    {
     "data": {
      "image/png": "[encoded data removed]",
      "text/plain": [
       "<Figure size 432x288 with 1 Axes>"
      ]
     },
     "metadata": {},
     "output_type": "display_data"
    },
    {
     "name": "stdout",
     "output_type": "stream",
     "text": [
      "Endosomes 9 0.8648648648648648 0.4151154601443972\n"
     ]
    },
    {
     "data": {
      "image/png": "[encoded data removed]",
      "text/plain": [
       "<Figure size 432x288 with 1 Axes>"
      ]
     },
     "metadata": {},
     "output_type": "display_data"
    },
    {
     "name": "stdout",
     "output_type": "stream",
     "text": [
      "Lysosomes 10 0.8484848484848485 0.3489015280874273\n"
     ]
    },
    {
     "data": {
      "image/png": "[encoded data removed]",
      "text/plain": [
       "<Figure size 432x288 with 1 Axes>"
      ]
     },
     "metadata": {},
     "output_type": "display_data"
    },
    {
     "name": "stdout",
     "output_type": "stream",
     "text": [
      "Intermediate filaments 11 0.787037037037037 -0.29194330189694606\n"
     ]
    },
    {
     "data": {
      "image/png": "[encoded data removed]",
      "text/plain": [
       "<Figure size 432x288 with 1 Axes>"
      ]
     },
     "metadata": {},
     "output_type": "display_data"
    },
    {
     "name": "stdout",
     "output_type": "stream",
     "text": [
      "Actin filaments 12 0.7870967741935484 -0.22653150913020928\n"
     ]
    },
    {
     "data": {
      "image/png": "[encoded data removed]",
      "text/plain": [
       "<Figure size 432x288 with 1 Axes>"
      ]
     },
     "metadata": {},
     "output_type": "display_data"
    },
    {
     "name": "stdout",
     "output_type": "stream",
     "text": [
      "Focal adhesion sites 13 0.7098976109215018 -0.4191697364467387\n"
     ]
    },
    {
     "data": {
      "image/png": "[encoded data removed]",
      "text/plain": [
       "<Figure size 432x288 with 1 Axes>"
      ]
     },
     "metadata": {},
     "output_type": "display_data"
    },
    {
     "name": "stdout",
     "output_type": "stream",
     "text": [
      "Microtubules 14 0.8207171314741034 0.1453101251925192\n"
     ]
    },
    {
     "data": {
      "image/png": "[encoded data removed]",
      "text/plain": [
       "<Figure size 432x288 with 1 Axes>"
      ]
     },
     "metadata": {},
     "output_type": "display_data"
    },
    {
     "name": "stdout",
     "output_type": "stream",
     "text": [
      "Microtubule ends 15 0.33333333333333337 -0.06643639461486882\n"
     ]
    },
    {
     "data": {
      "image/png": "[encoded data removed]",
      "text/plain": [
       "<Figure size 432x288 with 1 Axes>"
      ]
     },
     "metadata": {},
     "output_type": "display_data"
    },
    {
     "name": "stdout",
     "output_type": "stream",
     "text": [
      "Cytokinetic bridge 16 0.5867768595041324 -0.4234154740392314\n"
     ]
    },
    {
     "data": {
      "image/png": "[encoded data removed]",
      "text/plain": [
       "<Figure size 432x288 with 1 Axes>"
      ]
     },
     "metadata": {},
     "output_type": "display_data"
    },
    {
     "name": "stdout",
     "output_type": "stream",
     "text": [
      "Mitotic spindle 17 0.3934426229508197 0.21369375823645004\n"
     ]
    },
    {
     "data": {
      "image/png": "[encoded data removed]",
      "text/plain": [
       "<Figure size 432x288 with 1 Axes>"
      ]
     },
     "metadata": {},
     "output_type": "display_data"
    },
    {
     "name": "stdout",
     "output_type": "stream",
     "text": [
      "Microtubule organizing center 18 0.597883597883598 -0.3291975182576702\n"
     ]
    },
    {
     "data": {
      "image/png": "[encoded data removed]",
      "text/plain": [
       "<Figure size 432x288 with 1 Axes>"
      ]
     },
     "metadata": {},
     "output_type": "display_data"
    },
    {
     "name": "stdout",
     "output_type": "stream",
     "text": [
      "Centrosome 19 0.6222222222222223 -0.3671823274660719\n"
     ]
    },
    {
     "data": {
      "image/png": "[encoded data removed]",
      "text/plain": [
       "<Figure size 432x288 with 1 Axes>"
      ]
     },
     "metadata": {},
     "output_type": "display_data"
    },
    {
     "name": "stdout",
     "output_type": "stream",
     "text": [
      "Lipid droplets 20 0.6265060240963854 -0.28691869188829056\n"
     ]
    },
    {
     "data": {
      "image/png": "[encoded data removed]",
      "text/plain": [
       "<Figure size 432x288 with 1 Axes>"
      ]
     },
     "metadata": {},
     "output_type": "display_data"
    },
    {
     "name": "stdout",
     "output_type": "stream",
     "text": [
      "Plasma membrane 21 0.6619964973730299 -0.3143261492385417\n"
     ]
    },
    {
     "data": {
      "image/png": "[encoded data removed]",
      "text/plain": [
       "<Figure size 432x288 with 1 Axes>"
      ]
     },
     "metadata": {},
     "output_type": "display_data"
    },
    {
     "name": "stdout",
     "output_type": "stream",
     "text": [
      "Cell junctions 22 0.6882067851373181 -0.3011424119386853\n"
     ]
    },
    {
     "data": {
      "image/png": "[encoded data removed]",
      "text/plain": [
       "<Figure size 432x288 with 1 Axes>"
      ]
     },
     "metadata": {},
     "output_type": "display_data"
    },
    {
     "name": "stdout",
     "output_type": "stream",
     "text": [
      "Mitochondria 23 0.8213058419243987 -0.3816578999230677\n"
     ]
    },
    {
     "data": {
      "image/png": "[encoded data removed]",
      "text/plain": [
       "<Figure size 432x288 with 1 Axes>"
      ]
     },
     "metadata": {},
     "output_type": "display_data"
    },
    {
     "name": "stdout",
     "output_type": "stream",
     "text": [
      "Aggresome 24 0.6865671641791045 0.06506062465704017\n"
     ]
    },
    {
     "data": {
      "image/png": "[encoded data removed]",
      "text/plain": [
       "<Figure size 432x288 with 1 Axes>"
      ]
     },
     "metadata": {},
     "output_type": "display_data"
    },
    {
     "name": "stdout",
     "output_type": "stream",
     "text": [
      "Cytosol 25 0.715860899067006 -0.20151726772094247\n"
     ]
    },
    {
     "data": {
      "image/png": "[encoded data removed]",
      "text/plain": [
       "<Figure size 432x288 with 1 Axes>"
      ]
     },
     "metadata": {},
     "output_type": "display_data"
    },
    {
     "name": "stdout",
     "output_type": "stream",
     "text": [
      "Cytoplasmic bodies 26 0.6166666666666667 -0.1999326861433058\n"
     ]
    },
    {
     "data": {
      "image/png": "[encoded data removed]",
      "text/plain": [
       "<Figure size 432x288 with 1 Axes>"
      ]
     },
     "metadata": {},
     "output_type": "display_data"
    },
    {
     "name": "stdout",
     "output_type": "stream",
     "text": [
      "Rods & rings 27 0.23529411764705882 0.06626547427103692\n"
     ]
    },
    {
     "data": {
      "image/png": "[encoded data removed]",
      "text/plain": [
       "<Figure size 432x288 with 1 Axes>"
      ]
     },
     "metadata": {},
     "output_type": "display_data"
    }
   ],
   "source": [
    "f1 = f1_score(y, pred>th, average=None)\n",
    "for i in range(len(name_label_dict)):\n",
    "    bins = np.linspace(pred[:,i].min(), pred[:,i].max(), 50)\n",
    "    plt.hist(pred[y[:,i] == 0][:,i], bins, alpha=0.5, log=True, label='false')\n",
    "    plt.hist(pred[y[:,i] == 1][:,i], bins, alpha=0.5, log=True, label='true')\n",
    "    plt.legend(loc='upper right')\n",
    "    print(name_label_dict[i],i, f1[i], th[i])\n",
    "    plt.axvline(x=th[i], color='k', linestyle='--')\n",
    "    plt.show()"
   ]
  },
  {
   "cell_type": "code",
   "execution_count": 28,
   "metadata": {},
   "outputs": [
    {
     "name": "stdout",
     "output_type": "stream",
     "text": [
      "                                                \r"
     ]
    }
   ],
   "source": [
    "preds_t,y_t = learner.TTA(n_aug=16,is_test=True)\n",
    "preds_t = np.stack(preds_t, axis=-1)\n",
    "pred_t = preds_t.mean(axis=-1)"
   ]
  },
  {
   "cell_type": "code",
   "execution_count": 44,
   "metadata": {},
   "outputs": [],
   "source": [
    "def save_pred(pred, th=0.0, fname='protein_classification.csv'):\n",
    "    pred_list = []\n",
    "    for line in pred:\n",
    "        s = ' '.join(list([str(i) for i in np.nonzero(line>th)[0]]))\n",
    "        if s == '':\n",
    "            s = str(list(line-th).index(max(line-th)))\n",
    "        pred_list.append(s)\n",
    "    \n",
    "    df = pd.DataFrame({'Id':test_names,'Predicted':pred_list})\n",
    "    df.sort_values(by='Id').to_csv(fname, header=True, index=False)"
   ]
  },
  {
   "cell_type": "code",
   "execution_count": 47,
   "metadata": {},
   "outputs": [],
   "source": [
    "save_pred(pred_t,th,'protein_classification_v.csv')\n",
    "save_pred(pred_t,0.0,'protein_classification_0.csv')"
   ]
  },
  {
   "cell_type": "code",
   "execution_count": 48,
   "metadata": {},
   "outputs": [],
   "source": [
    "lb_prob = [\n",
    " 0.362397820,0.043841336,0.075268817,0.059322034,0.075268817,\n",
    " 0.075268817,0.043841336,0.075268817,0.010000000,0.010000000,\n",
    " 0.010000000,0.043841336,0.043841336,0.014198783,0.043841336,\n",
    " 0.010000000,0.028806584,0.014198783,0.028806584,0.059322034,\n",
    " 0.010000000,0.126126126,0.028806584,0.075268817,0.010000000,\n",
    " 0.222493880,0.028806584,0.010000000]\n",
    "# I replaced 0 by 0.01 since there may be a rounding error leading to 0"
   ]
  },
  {
   "cell_type": "code",
   "execution_count": 41,
   "metadata": {},
   "outputs": [],
   "source": [
    "def Count_soft(preds,th=0.5,d=50.0):\n",
    "    preds = sigmoid_np(d*(preds - th))\n",
    "    return preds.mean(axis=0)\n",
    "\n",
    "def fit_test(x,y):\n",
    "    params = 0.5*np.ones(len(name_label_dict))\n",
    "    wd = 1e-5\n",
    "    error = lambda p: np.concatenate((Count_soft(x,p) - y,\n",
    "                                      wd*(p - 0.5)), axis=None)\n",
    "    p, success = opt.leastsq(error, params)\n",
    "    return p"
   ]
  },
  {
   "cell_type": "code",
   "execution_count": 50,
   "metadata": {},
   "outputs": [
    {
     "name": "stderr",
     "output_type": "stream",
     "text": [
      "/home/usst/anaconda3/envs/dxzpy/lib/python3.6/site-packages/ipykernel_launcher.py:2: RuntimeWarning: overflow encountered in exp\n",
      "  \n"
     ]
    },
    {
     "name": "stdout",
     "output_type": "stream",
     "text": [
      "Thresholds:  [ 0.1055  -0.66187 -0.09219 -0.81335 -0.90208 -0.50453 -0.70707 -0.17024 -2.35166 -2.25778 -2.33092 -0.71778\n",
      " -0.96383 -0.61792 -0.33439 -1.69795 -0.67285 -0.36974 -0.39429 -0.61514 -0.67713 -0.17662 -0.64969 -0.39929\n",
      " -0.26117  0.0953  -0.91938 -1.59725]\n",
      "Fractions:  [0.36242 0.04375 0.0752  0.05905 0.0746  0.0752  0.04367 0.07546 0.00983 0.00983 0.00991 0.04384 0.0441\n",
      " 0.01419 0.0441  0.01    0.02846 0.01401 0.02897 0.05948 0.01    0.12622 0.02897 0.07546 0.01    0.22278\n",
      " 0.02871 0.01   ]\n",
      "Fractions (th = 0.0):  [0.39216 0.03102 0.07161 0.02888 0.03102 0.03897 0.01709 0.06349 0.00051 0.00085 0.00077 0.02512 0.01436\n",
      " 0.00923 0.03649 0.00017 0.00615 0.00743 0.01154 0.02427 0.00367 0.09357 0.01188 0.05367 0.00872 0.26688\n",
      " 0.00607 0.00017]\n"
     ]
    }
   ],
   "source": [
    "th_t = fit_test(pred_t,lb_prob)\n",
    "print('Thresholds: ',th_t)\n",
    "print('Fractions: ',(pred_t > th_t).mean(axis=0))\n",
    "print('Fractions (th = 0.0): ',(pred_t > 0.0).mean(axis=0))"
   ]
  },
  {
   "cell_type": "code",
   "execution_count": 51,
   "metadata": {},
   "outputs": [],
   "source": [
    "save_pred(pred_t,th_t,'protein_classification_f.csv')"
   ]
  },
  {
   "cell_type": "code",
   "execution_count": 52,
   "metadata": {},
   "outputs": [],
   "source": [
    "class_list = [8,9,10,15,20,24,27]\n",
    "for i in class_list:\n",
    "    th_t[i] = th[i]\n",
    "save_pred(pred_t,th_t,'protein_classification_c.csv')"
   ]
  },
  {
   "cell_type": "code",
   "execution_count": 42,
   "metadata": {},
   "outputs": [
    {
     "data": {
      "text/plain": [
       "(array([12885.,  1254.,  3621.,  1561.,  1858.,  2513.,  1008.,  2822.,    53.,    45.,    28.,  1093.,\n",
       "          688.,   537.,  1066.,    21.,   530.,   210.,   902.,  1482.,   172.,  3777.,   802.,  2965.,\n",
       "          322.,  8228.,   328.,    11.]),\n",
       " array([0.41468, 0.04036, 0.11654, 0.05024, 0.0598 , 0.08088, 0.03244, 0.09082, 0.00171, 0.00145, 0.0009 ,\n",
       "        0.03518, 0.02214, 0.01728, 0.03431, 0.00068, 0.01706, 0.00676, 0.02903, 0.0477 , 0.00554, 0.12156,\n",
       "        0.02581, 0.09542, 0.01036, 0.2648 , 0.01056, 0.00035]))"
      ]
     },
     "execution_count": 42,
     "metadata": {},
     "output_type": "execute_result"
    }
   ],
   "source": [
    "labels = pd.read_csv('train.csv').set_index('Id')\n",
    "label_count = np.zeros(len(name_label_dict))\n",
    "for label in labels['Target']:\n",
    "    l = [int(i) for i in label.split()]\n",
    "    label_count += np.eye(len(name_label_dict))[l].sum(axis=0)\n",
    "label_fraction = label_count.astype(np.float)/len(labels)\n",
    "label_count, label_fraction"
   ]
  },
  {
   "cell_type": "code",
   "execution_count": 45,
   "metadata": {},
   "outputs": [
    {
     "name": "stdout",
     "output_type": "stream",
     "text": [
      "Thresholds:  [2.39359 0.94769 0.84719 0.57366 0.44749 0.81232 0.79338 0.87453 0.52426 0.75174 0.77689 1.14086 1.21302\n",
      " 0.59254 2.47783 0.73575 1.43297 2.75021 1.19278 1.17301 1.2983  2.15175 0.83948 1.02059 1.30436 2.33841\n",
      " 1.88859 0.5822 ]\n",
      "Fractions:  [0.41454 0.04033 0.11613 0.05016 0.05948 0.08084 0.03247 0.09075 0.00171 0.00145 0.00094 0.03529 0.02213\n",
      " 0.01718 0.03435 0.00068 0.01718 0.00667 0.02905 0.04768 0.00547 0.12135 0.02572 0.0952  0.01034 0.2644\n",
      " 0.01051 0.00034]\n"
     ]
    }
   ],
   "source": [
    "th_t = fit_test(pred_t,label_fraction)\n",
    "print('Thresholds: ',th_t)\n",
    "print('Fractions: ',(pred_t > th_t).mean(axis=0))\n",
    "save_pred(pred_t,th_t,'protein_classification_t.csv')"
   ]
  },
  {
   "cell_type": "code",
   "execution_count": 39,
   "metadata": {},
   "outputs": [],
   "source": [
    "def save_pred(pred, th=0.0):\n",
    "    pred_list = []\n",
    "    for line in pred:\n",
    "        s = (list([i for i in np.nonzero(line>th)[0]]))\n",
    "        pred_list.append(s)\n",
    "    return pred_list"
   ]
  },
  {
   "cell_type": "code",
   "execution_count": 41,
   "metadata": {},
   "outputs": [],
   "source": [
    "pred_1 = save_pred(pre_1,th_1)\n",
    "pred_2 = save_pred(pre_2,th_2)\n",
    "pred_3 = save_pred(pre_3,th_3)\n",
    "pred_4 = save_pred(pre_4,th_4)\n",
    "pred_5 = save_pred(pre_5,th_5)"
   ]
  },
  {
   "cell_type": "code",
   "execution_count": 45,
   "metadata": {},
   "outputs": [
    {
     "data": {
      "text/plain": [
       "[[2, 2, 2, 2, 2],\n",
       " [5, 5, 5, 5, 5],\n",
       " [0, 5, 25, 0, 5, 25, 0, 5, 25, 0, 5, 25, 0, 5, 25],\n",
       " [0, 0, 0, 0, 0],\n",
       " [25, 25, 25, 25, 25],\n",
       " [4, 4, 4, 4, 4],\n",
       " [0, 4, 25, 0, 4, 25, 0, 4, 25, 0, 4, 25, 0, 4, 25],\n",
       " [0, 23, 0, 23, 0, 23, 0, 23, 0, 23],\n",
       " [0, 0, 0, 0, 0],\n",
       " [25, 25, 25, 25, 25],\n",
       " [25, 25, 25, 25, 7, 25],\n",
       " [3, 5, 3, 5, 3, 5, 3, 5, 3, 5],\n",
       " [2, 25, 2, 25, 2, 25, 2, 25, 2, 25],\n",
       " [7, 7, 7, 7, 7],\n",
       " [23, 23, 23, 23, 23],\n",
       " [4, 5, 25, 4, 5, 18, 25, 4, 5, 18, 25, 5, 25, 4, 5],\n",
       " [2, 16, 2, 14, 2, 2, 2, 14],\n",
       " [5, 5, 5, 5, 5],\n",
       " [14, 14, 21, 14, 14, 14],\n",
       " [0, 5, 0, 5, 0, 5, 0, 5, 5],\n",
       " [6, 6, 6, 6, 6],\n",
       " [2, 2, 2, 2],\n",
       " [0, 25, 0, 0, 0, 25, 0, 25],\n",
       " [0, 0, 0, 0, 0],\n",
       " [0, 4, 0, 4, 0, 4, 0, 4, 0, 4],\n",
       " [25, 25, 25, 23, 25],\n",
       " [0, 0, 0, 0, 0],\n",
       " [0, 5, 0, 5, 0, 1, 5, 0, 5, 0, 5],\n",
       " [0, 5, 25, 0, 5, 0, 5, 25, 0, 5, 0, 5, 25],\n",
       " [5, 5, 5, 0, 5, 5],\n",
       " [13, 21, 21, 13, 21, 21, 13, 21],\n",
       " [0, 7, 0, 0, 7, 0, 7, 0],\n",
       " [16, 17, 18, 16, 17, 18, 17, 18, 16, 17, 18, 16, 17, 18],\n",
       " [5, 5, 5, 5, 5],\n",
       " [0, 7, 0, 7, 0, 7, 0, 7, 0, 7],\n",
       " [13, 13, 13, 13, 13],\n",
       " [4],\n",
       " [3, 3, 3, 3, 3],\n",
       " [21, 21, 21],\n",
       " [1, 1, 1, 1, 1],\n",
       " [0, 25, 0, 25, 0, 25, 0, 25, 0, 25],\n",
       " [25, 23, 25, 25, 23, 25, 25],\n",
       " [0, 0, 0, 0, 21, 0, 21],\n",
       " [19, 25, 19, 25, 19, 25, 19, 25, 19, 25],\n",
       " [13, 25, 25, 25, 25, 25],\n",
       " [6, 20, 6, 6, 20, 6, 20, 6, 20],\n",
       " [0, 0, 0, 0, 0],\n",
       " [0, 0, 0, 0, 0],\n",
       " [6, 6, 6, 6, 6],\n",
       " [0, 0, 0, 0, 0],\n",
       " [0, 25, 0, 25, 0, 25, 25, 0, 3, 25],\n",
       " [0, 5, 0, 5, 0, 5, 0, 5, 0, 5],\n",
       " [20, 20, 20, 23, 20],\n",
       " [25, 25, 25, 25, 25],\n",
       " [3, 3, 3, 3, 3],\n",
       " [0, 25, 0, 25, 0, 25, 0, 25, 0, 25],\n",
       " [0, 25, 0, 25, 0, 25, 0, 25, 0, 25],\n",
       " [11, 11, 11],\n",
       " [0, 25, 0, 25, 0, 25, 0, 25, 0, 25],\n",
       " [25, 25, 25, 25, 25],\n",
       " [2, 2, 2, 2, 2],\n",
       " [0, 5, 21, 0, 5, 21, 0, 5, 21, 0, 5, 21, 0, 5, 21],\n",
       " [25, 25],\n",
       " [25, 25],\n",
       " [23, 23, 23, 23, 23],\n",
       " [0, 25, 0, 25, 0, 25, 0, 25, 0, 25],\n",
       " [3, 25, 2, 3, 25, 2, 3, 25, 2, 3, 25, 2, 3, 25],\n",
       " [25, 25, 25, 25],\n",
       " [0, 0, 0, 0, 0],\n",
       " [21, 21, 25, 21, 21, 25, 21],\n",
       " [2, 2, 2, 2, 2],\n",
       " [0, 2, 0, 2, 0, 2, 0, 2, 0],\n",
       " [14, 14, 14, 14, 14],\n",
       " [4, 4, 4, 4, 4],\n",
       " [21, 21, 21, 21, 21],\n",
       " [0, 0, 0, 0, 0],\n",
       " [4, 4, 4, 4, 4],\n",
       " [0, 1, 0, 1, 0, 1, 0, 1, 0, 1],\n",
       " [0, 25, 0, 25, 0, 25, 0, 25, 0, 25],\n",
       " [0, 25, 0, 25, 0, 25, 0, 25, 0, 25],\n",
       " [0],\n",
       " [0, 0, 0, 0, 0],\n",
       " [0],\n",
       " [21, 25, 21, 25, 21, 25, 21, 25, 21, 25],\n",
       " [18, 19, 18, 19, 18, 19, 18, 19, 18, 19],\n",
       " [0, 23, 0, 0, 23, 0, 24, 0],\n",
       " [23, 23, 23, 23, 23],\n",
       " [0, 21, 0, 21, 0, 21, 0, 21, 0, 21],\n",
       " [25, 25, 25, 25, 25],\n",
       " [11, 14, 11, 14, 11, 14, 14, 14],\n",
       " [25, 25, 0, 25, 0, 25, 25],\n",
       " [21, 23, 21, 21],\n",
       " [23, 23, 23, 23, 23],\n",
       " [12, 13, 12, 13, 12, 13, 13, 12, 13],\n",
       " [23, 25, 23, 23, 23, 23],\n",
       " [0, 25, 0, 25, 0, 25, 0, 25, 25],\n",
       " [18, 25, 7, 25, 25, 7, 25, 7, 18, 25],\n",
       " [0, 7, 0, 7, 25, 0, 7, 0, 7, 0, 7, 25],\n",
       " [24, 24, 24, 24, 24],\n",
       " [0, 23, 25, 0, 23, 25, 0, 23, 25, 0, 23, 25, 0, 23, 25],\n",
       " [0, 25, 0, 25, 25, 25, 0, 25],\n",
       " [23, 23, 23, 23, 23],\n",
       " [23, 23, 23, 23, 23],\n",
       " [0, 23, 0, 23, 0, 23, 0, 23, 0, 23],\n",
       " [7, 7, 7, 7, 7],\n",
       " [2, 21, 2, 21, 2, 21, 2, 21, 2, 21],\n",
       " [0, 14, 16, 0, 14, 16, 0, 14, 16, 0, 14, 16, 0, 14, 16],\n",
       " [0, 7, 0, 0, 7, 0, 0, 7],\n",
       " [20, 26, 20, 26, 20, 26, 20, 26, 20],\n",
       " [0, 25, 0, 25, 0, 25, 0, 25, 0, 25],\n",
       " [2, 2, 2, 2, 2],\n",
       " [1, 1, 1, 1, 1],\n",
       " [25, 25, 17, 25, 25, 25],\n",
       " [0, 22, 0, 22, 0, 22, 25, 0, 22, 25, 0, 22],\n",
       " [25, 25, 25, 25, 25],\n",
       " [7, 21, 25, 21, 21, 21, 21],\n",
       " [0, 2, 0, 2, 0, 2, 0, 2, 0, 2],\n",
       " [4, 4, 4, 4, 4],\n",
       " [25, 25, 25, 6, 11, 25, 25],\n",
       " [26, 26, 26, 26, 26],\n",
       " [0, 18, 19, 0, 18, 19, 0, 18, 19, 0, 18, 19, 25, 0, 18, 19, 25],\n",
       " [25, 25, 25],\n",
       " [2, 21, 2, 25, 2, 2, 2],\n",
       " [20, 20, 20, 20, 20],\n",
       " [0, 4, 0, 4, 0, 4, 0, 4, 0, 2, 4],\n",
       " [0, 0, 0, 0, 0],\n",
       " [0, 25, 0, 25, 0, 25, 0, 25, 0, 25],\n",
       " [25, 25, 25, 25, 25],\n",
       " [0, 3, 4, 0, 2, 3, 4, 0, 2, 3, 4, 0, 3, 4, 0, 2, 4],\n",
       " [18, 19, 18, 19, 18, 19, 19, 18, 19],\n",
       " [6, 25, 25, 6, 25, 6, 25, 25],\n",
       " [0, 21, 0, 21, 0, 21, 0, 21, 0, 21],\n",
       " [0, 1, 0, 1, 0, 1, 0, 1, 0, 1],\n",
       " [0, 0, 7, 0, 0, 0],\n",
       " [0, 11, 0, 11, 0, 11, 0, 11, 0, 11],\n",
       " [5, 5, 5, 5, 5],\n",
       " [0, 16, 0, 16, 0, 16, 0, 16, 0, 16],\n",
       " [0, 0, 0, 0, 0],\n",
       " [21, 21, 21, 21, 21],\n",
       " [25, 21, 25, 21, 25, 25, 21, 25],\n",
       " [0, 0, 0, 25, 0, 0, 19],\n",
       " [25, 25, 25, 25, 25],\n",
       " [0, 1, 0, 1, 0, 1, 0, 1, 0, 1],\n",
       " [5, 5, 5, 0, 5, 5],\n",
       " [25, 6, 25, 6, 25, 25, 25],\n",
       " [22, 22, 22, 22, 22],\n",
       " [0, 0, 0, 0, 0],\n",
       " [0, 25, 0, 25, 0, 25, 0, 25, 0, 21, 25],\n",
       " [0, 0, 0, 0, 0],\n",
       " [25, 25, 25, 25, 25],\n",
       " [0, 3, 23, 0, 3, 0, 3, 0, 2, 3, 0, 2, 3],\n",
       " [7, 17, 18, 7, 18, 7, 18, 7, 18, 7, 18],\n",
       " [0, 7, 0, 7, 0, 7, 0, 7, 0, 7],\n",
       " [0, 25, 0, 25, 0, 25, 0, 25, 0, 25],\n",
       " [2,\n",
       "  3,\n",
       "  6,\n",
       "  7,\n",
       "  25,\n",
       "  2,\n",
       "  3,\n",
       "  6,\n",
       "  7,\n",
       "  25,\n",
       "  2,\n",
       "  3,\n",
       "  6,\n",
       "  7,\n",
       "  25,\n",
       "  2,\n",
       "  3,\n",
       "  6,\n",
       "  7,\n",
       "  25,\n",
       "  2,\n",
       "  3,\n",
       "  6,\n",
       "  7,\n",
       "  25],\n",
       " [6, 6, 6, 6, 6],\n",
       " [0, 7, 0, 0, 0, 0],\n",
       " [0, 25, 0, 25, 0, 25, 0, 25, 0, 25],\n",
       " [1, 25, 25, 1, 25, 25, 1, 25],\n",
       " [25, 25, 25, 25, 25],\n",
       " [0, 19, 25, 0, 19, 25, 0, 19, 25, 0, 19, 25, 0, 19, 25],\n",
       " [25, 25, 25, 0, 25, 25],\n",
       " [0, 11, 0, 11, 0, 11, 0, 11, 0, 11],\n",
       " [4, 4, 4, 4, 4],\n",
       " [5, 5, 5, 5, 5],\n",
       " [2, 23, 2, 23, 2, 23, 2, 23, 2, 23],\n",
       " [0, 25, 0, 25, 0, 25, 0, 22, 25, 0, 25],\n",
       " [19, 19, 19, 19, 19],\n",
       " [21, 21, 21, 21, 21],\n",
       " [7, 25, 7, 25, 7, 25, 7, 25, 7, 25],\n",
       " [5, 25, 5, 25, 5, 25, 5, 25, 5, 25],\n",
       " [25, 25, 25, 25, 7, 25],\n",
       " [0, 16, 16, 0, 16, 16, 0, 16, 25],\n",
       " [23, 23, 7, 23, 23, 7],\n",
       " [0, 2, 0, 2, 0, 2, 0, 2, 0, 2],\n",
       " [0, 11, 0, 4, 0, 11, 0, 0, 11],\n",
       " [21, 21, 21],\n",
       " [0, 7, 25, 0, 7, 25, 0, 7, 25, 0, 7, 25, 0, 7, 18, 25],\n",
       " [0, 12, 0, 12, 0, 12, 0, 12, 0, 12],\n",
       " [0, 2, 3, 2, 3, 0, 2, 0, 2, 3, 0, 2, 3, 5, 7],\n",
       " [0, 0, 0, 0, 0],\n",
       " [23, 23, 23, 23, 23],\n",
       " [0, 0, 0, 0, 0],\n",
       " [0, 0, 0, 0, 0],\n",
       " [14, 14, 14, 14, 14],\n",
       " [0, 25, 0, 25, 0, 25, 0, 25, 0, 25],\n",
       " [0, 25, 0, 25, 0, 25, 0, 25, 0, 25],\n",
       " [0, 2, 7, 0, 7, 0, 7, 0, 2, 7, 0, 2, 7],\n",
       " [23, 23, 23, 23, 23],\n",
       " [21, 4, 21, 21, 4, 21, 4, 21],\n",
       " [25, 25, 25, 25, 25],\n",
       " [0, 25, 0, 25, 0, 25, 0, 25, 0, 25],\n",
       " [5, 5, 5, 5],\n",
       " [25, 25, 25, 25, 25],\n",
       " [5, 25, 5, 25, 5, 25, 5, 25, 5, 25],\n",
       " [5, 5, 23, 23, 5, 23],\n",
       " [0, 25, 0, 25, 0, 25, 0, 25, 0, 25],\n",
       " [],\n",
       " [23, 23, 23, 23, 23],\n",
       " [0, 4, 25, 0, 4, 25, 0, 4, 25, 0, 4, 25, 0, 4, 25],\n",
       " [2, 21, 2, 21, 2, 21, 2, 21, 2, 21],\n",
       " [3, 4, 3, 4, 3, 4, 3, 4, 3, 4],\n",
       " [0, 0, 0, 0, 0],\n",
       " [0, 25, 0, 25, 0, 25, 0, 25, 0, 25],\n",
       " [0, 3, 19, 0, 2, 3, 19, 0, 2, 3, 19, 0, 2, 3, 19, 25, 0, 3, 19],\n",
       " [21, 21, 21, 21, 21],\n",
       " [0, 25, 0, 25, 0, 25, 0, 25, 0, 25],\n",
       " [0, 5, 0, 5, 0, 5, 0, 5, 0, 5],\n",
       " [0, 0, 0, 0, 0],\n",
       " [21, 21, 0, 21, 21],\n",
       " [0, 0, 0, 14, 0, 14, 0, 14],\n",
       " [0, 0, 0, 0, 5, 0],\n",
       " [7, 23, 7, 23, 7, 23, 7, 23, 7, 23],\n",
       " [0, 5, 0, 5, 0, 5, 0, 5, 0, 5],\n",
       " [18, 19, 19, 19, 19, 18, 19],\n",
       " [0, 0],\n",
       " [],\n",
       " [7, 7, 7, 7, 7],\n",
       " [21, 22, 21, 22, 21, 22, 21, 22, 21, 22],\n",
       " [2, 3, 2, 3, 2, 3, 2, 3, 2, 3],\n",
       " [0, 2, 5, 0, 2, 3, 0, 2, 3, 5, 0, 2, 3, 0, 2, 3, 5],\n",
       " [14, 25, 14, 25, 14, 25, 14, 25, 14, 25],\n",
       " [],\n",
       " [2, 3, 2, 3, 12, 2, 3, 12, 2, 3, 2, 3, 12],\n",
       " [6, 8, 20, 6, 20, 6, 20, 6, 8, 20, 6, 20],\n",
       " [23, 23, 23, 23, 23],\n",
       " [21, 21, 11, 21, 11, 21],\n",
       " [2, 2, 12, 2, 12, 2, 12, 2, 12],\n",
       " [0, 19, 0, 19, 0, 19, 0, 19, 0, 19],\n",
       " [0, 5, 0, 2, 5, 0, 2, 5, 0, 5, 0, 2, 5],\n",
       " [25, 25, 25, 25, 25],\n",
       " [0, 11, 0, 11, 0, 11, 0, 11, 0, 11],\n",
       " [0, 2, 0, 2, 0, 2, 0, 2, 0, 2],\n",
       " [23, 23, 0, 23, 0, 23, 0, 23],\n",
       " [23, 25, 0, 23, 25, 23, 25, 23, 25, 23, 25],\n",
       " [11, 11, 11, 11, 11],\n",
       " [7, 20, 20, 26, 7, 20, 20, 7, 20],\n",
       " [12, 0, 12, 12, 12, 0, 12],\n",
       " [0, 0, 7, 0, 7, 0, 0, 7],\n",
       " [25, 18, 25, 18, 25, 25, 18, 25],\n",
       " [21, 21, 21, 21, 21],\n",
       " [2, 7, 23, 2, 7, 23, 2, 7, 2, 7, 23, 2, 7, 23],\n",
       " [2, 21, 2, 21, 2, 25, 2, 21, 2, 7, 21],\n",
       " [0, 25, 0, 25, 0, 25, 0, 25, 0, 25],\n",
       " [4, 11, 2, 4, 14, 2, 4, 4, 4],\n",
       " [12, 23, 12, 23, 12, 23, 23, 12, 23],\n",
       " [25, 25, 25, 25, 25],\n",
       " [4, 4, 4, 4, 4],\n",
       " [13, 22, 13, 22, 13, 13, 13],\n",
       " [0, 0, 0, 0, 0],\n",
       " [0, 25, 0, 25, 0, 5, 25, 0, 5, 25, 0, 5, 25],\n",
       " [0, 25, 0, 25, 0, 25, 0, 25, 0, 25],\n",
       " [2, 25, 2, 25, 2, 23, 25, 2, 3, 25, 2, 25],\n",
       " [0, 0, 0, 2, 0, 0],\n",
       " [0, 25, 0, 25, 0, 25, 0, 25, 0, 25],\n",
       " [11, 11, 11, 11, 11],\n",
       " [23, 23, 23, 23, 23],\n",
       " [3, 5, 3, 5, 3, 5, 5, 3, 5],\n",
       " [25, 2],\n",
       " [12, 13, 21, 12, 13, 21, 12, 13, 21, 13, 21, 12, 13, 21],\n",
       " [21, 21],\n",
       " [19, 19, 26],\n",
       " [0, 3, 4, 5, 0, 3, 4, 5, 3, 4, 5, 3, 4, 5, 0, 3, 5],\n",
       " [0, 5, 0, 5, 0, 5, 0, 5, 0, 5],\n",
       " [13, 22, 13, 13, 22, 13, 13],\n",
       " [0, 0, 0, 0, 0],\n",
       " [12, 12, 12, 12, 12],\n",
       " [0, 0, 0, 0, 0],\n",
       " [7, 7, 0, 0],\n",
       " [0, 5, 25, 0, 5, 25, 0, 5, 25, 0, 5, 25, 0, 5, 25],\n",
       " [0, 19, 0, 19, 0, 19, 0, 19, 0, 19],\n",
       " [25, 25, 25, 25, 25],\n",
       " [0, 12, 0, 12, 0, 12, 0, 12, 0, 12],\n",
       " [2, 25, 2, 25, 2, 25, 2, 4, 2, 25],\n",
       " [2, 2, 2, 2, 2],\n",
       " [0, 19, 25, 0, 19, 25, 0, 19, 25, 0, 4, 19, 25, 0, 19, 25],\n",
       " [0, 2, 3, 5, 2, 3, 5, 2, 3, 5, 0, 2, 3, 5, 2, 3, 5],\n",
       " [11, 11, 11, 11, 11],\n",
       " [0, 0, 0, 0, 0],\n",
       " [0, 0, 0, 0, 0],\n",
       " [0, 3, 25, 0, 3, 25, 0, 3, 25, 0, 3, 25, 0, 3, 25],\n",
       " [2, 2, 2, 2, 2],\n",
       " [3, 3, 3, 3, 3],\n",
       " [7, 7, 7, 7, 7],\n",
       " [0, 1, 0, 1, 0, 1, 0, 1, 0, 1],\n",
       " [0, 12, 0, 12, 0, 12, 0, 12, 0, 12],\n",
       " [0, 2, 5, 7, 0, 5, 0, 5, 7, 0, 5, 7, 0, 2, 5, 7],\n",
       " [7, 7, 7, 7, 7],\n",
       " [2, 6, 2, 6, 2, 6, 2, 6, 2, 6],\n",
       " [7, 7, 7, 7, 7],\n",
       " [0, 5, 0, 5, 0, 5, 0, 5, 0, 5],\n",
       " [0, 16, 23, 0, 14, 23, 0, 23, 0, 23, 0, 23],\n",
       " [21, 25, 25, 21, 25, 25, 25],\n",
       " [7, 7, 7, 7, 7],\n",
       " [4, 19, 0, 4, 19, 4, 19, 4, 19, 4, 19],\n",
       " [0, 21, 25, 0, 21, 25, 0, 25, 0, 21, 25, 0, 25],\n",
       " [25, 25, 25, 25, 25],\n",
       " [0, 2, 25, 0, 2, 25, 0, 2, 25, 0, 2, 25, 0, 2, 25],\n",
       " [0, 5, 0, 5, 0, 5, 0, 5, 0, 5],\n",
       " [0, 2, 0, 2, 0, 2, 3, 0, 2, 3, 4, 0, 2, 3],\n",
       " [22],\n",
       " [0, 5, 0, 3, 5, 0, 3, 5, 5, 0, 3, 5],\n",
       " [25, 11, 25, 11, 25, 11, 25, 11, 25],\n",
       " [14, 14, 14, 14, 14],\n",
       " [],\n",
       " [0, 19, 0, 19, 0, 0, 19, 0],\n",
       " [1, 1, 1, 1, 1],\n",
       " [14, 14, 14, 14, 14],\n",
       " [21, 21, 21, 21, 21],\n",
       " [0, 0, 25, 0, 25, 0, 25, 0, 25],\n",
       " [23, 25, 23, 25, 23, 25, 25, 25],\n",
       " [11, 11, 11, 11, 11],\n",
       " [7, 0, 7, 0, 7, 7, 7],\n",
       " [0, 0, 0, 0, 0],\n",
       " [0, 0, 0, 0, 0],\n",
       " [21, 25, 21, 25, 21, 25, 21, 25, 21, 25],\n",
       " [14, 16, 17, 16, 17, 25, 16, 17, 16, 17, 25, 14, 16, 17],\n",
       " [0, 2, 0, 2, 0, 2, 0, 0],\n",
       " [0, 25, 0, 25, 0, 25, 0, 25, 0, 25],\n",
       " [0, 25, 0, 25, 0, 25, 0, 25, 0, 25],\n",
       " [19, 19, 19, 19, 19],\n",
       " [6, 6, 6, 6, 6],\n",
       " [21, 25, 21, 25, 21, 25, 21, 25, 21, 25],\n",
       " [0, 2, 0, 2, 0, 2, 0, 2, 0, 2],\n",
       " [0, 0, 0, 0, 0],\n",
       " [0, 7, 0, 7, 0, 7, 0, 7, 0, 7],\n",
       " [21, 21, 21, 22, 21, 21],\n",
       " [0, 2, 0, 2, 0, 2, 0, 0, 2],\n",
       " [0, 2, 3, 0, 2, 3, 0, 2, 3, 0, 2, 3, 0, 2, 3],\n",
       " [14, 14, 14, 14, 14],\n",
       " [5, 5, 5, 5, 5],\n",
       " [],\n",
       " [25, 25, 25, 25, 25],\n",
       " [0, 1, 0, 1, 0, 1, 0, 1, 0, 1],\n",
       " [11, 11, 11],\n",
       " [7, 7, 7, 7, 7],\n",
       " [24, 24, 24, 24, 24],\n",
       " [25, 25, 25, 25, 25],\n",
       " [0, 25, 0, 25, 0, 25, 0, 25, 0, 25],\n",
       " [6, 6, 6, 6, 6],\n",
       " [],\n",
       " [0, 7, 18, 0, 7, 18, 0, 7, 18, 0, 7, 18, 0, 7, 18],\n",
       " [0, 2, 4, 0, 2, 4, 0, 2, 3, 4, 0, 2, 3, 4, 0, 2, 3, 4],\n",
       " [14, 14, 14, 14, 14],\n",
       " [4, 21, 25, 4, 21, 25, 4, 21, 25, 4, 21, 25, 4, 21, 25],\n",
       " [0, 5, 25, 0, 5, 25, 0, 5, 25, 0, 5, 25, 0, 5, 25],\n",
       " [18, 19, 18, 19, 18, 19, 18, 19, 18, 19],\n",
       " [2, 3, 22, 2, 3, 7, 22, 2, 3, 22, 2, 3, 22, 2, 3, 22],\n",
       " [2, 21, 2, 21, 2, 21, 2, 21, 2, 21],\n",
       " [0, 25, 0, 25, 0, 25, 0, 25, 0, 25],\n",
       " [0, 7, 0, 7, 0, 7, 0, 7, 0, 7],\n",
       " [9, 9],\n",
       " [25, 25, 23, 25, 23, 25, 25],\n",
       " [4, 5, 4, 5, 4, 5, 4, 5, 4, 5],\n",
       " [0, 25, 0, 25, 0, 25, 0, 25, 0, 25],\n",
       " [3, 3, 3, 3, 3],\n",
       " [24, 24, 24, 24, 24],\n",
       " [0, 5, 0, 5, 0, 5, 0, 5, 0, 5],\n",
       " [25, 25, 25, 25, 25],\n",
       " [2, 4, 2, 23, 2, 4, 2, 4, 2, 4],\n",
       " [11, 24, 25, 11, 24, 25, 11, 24, 25, 11, 24, 25, 11, 24, 25],\n",
       " [2, 6, 25, 2, 6, 25, 2, 6, 25, 2, 6, 25, 2, 6, 25],\n",
       " [25, 25, 25, 25, 25],\n",
       " [0, 25, 0, 25, 0, 0, 0],\n",
       " [7, 7, 7, 7, 7],\n",
       " [11, 11, 11, 11, 11],\n",
       " [11, 11, 11, 11, 11],\n",
       " [0, 0, 0, 0, 0],\n",
       " [0, 19, 0, 5, 19, 0, 19, 19],\n",
       " [0, 5, 0, 5, 0, 5, 0, 5, 0, 5],\n",
       " [23, 23, 23, 23, 23],\n",
       " [0, 1, 25, 0, 1, 25, 0, 1, 25, 0, 1, 25, 0, 1, 25],\n",
       " [0, 25, 0, 21, 25, 0, 25, 0, 21, 25, 0, 25],\n",
       " [25, 25, 25, 25, 25],\n",
       " [0, 23, 0, 23, 0, 23, 0, 23, 0, 23],\n",
       " [21, 21, 21, 21, 21],\n",
       " [0, 4, 0, 4, 0, 3, 4, 0, 4, 0, 4],\n",
       " [0, 3, 25, 0, 3, 25, 0, 3, 0, 3, 25, 0, 3, 25],\n",
       " [12, 21, 12, 21, 12, 21, 12, 21, 12, 21],\n",
       " [4, 13, 21, 25, 4, 13, 21, 25, 4, 13, 21, 25, 4, 13, 21, 25, 4, 13, 21, 25],\n",
       " [0, 21, 0, 21, 0, 21, 0, 21, 0, 21],\n",
       " [2, 7, 2, 7, 2, 7, 2, 7, 2, 7],\n",
       " [0, 0, 0, 0, 0],\n",
       " [25, 2, 3, 5, 25, 25, 25, 5, 25],\n",
       " [0, 5, 0, 5, 0, 5, 0, 5, 0, 5],\n",
       " [0, 0, 14, 0, 14],\n",
       " [0, 2, 0, 0, 0, 0, 2],\n",
       " [3, 5, 3, 5, 3, 3, 3, 5],\n",
       " [19, 19, 19, 19, 19],\n",
       " [25, 25, 0, 25, 25, 25],\n",
       " [7, 16, 7, 7, 7, 7],\n",
       " [25, 25, 25, 25, 25],\n",
       " [0, 14, 0, 14, 0, 14, 0, 14, 0, 14],\n",
       " [25, 21, 25, 25, 21, 25],\n",
       " [0, 0, 0, 0, 5, 0],\n",
       " [0, 0, 0, 0, 0],\n",
       " [21, 21, 21, 21, 21],\n",
       " [0, 11, 0, 11, 0, 11, 0, 11, 0, 11],\n",
       " [],\n",
       " [0, 0, 0, 0, 0],\n",
       " [21, 23, 21, 23, 21, 23, 21, 23, 21, 23],\n",
       " [0, 0, 0, 0, 0],\n",
       " [21, 23, 21, 23, 21, 23, 21, 23, 21, 23],\n",
       " [0, 21, 0, 21, 0, 21, 0, 21, 0, 21],\n",
       " [0, 22, 25, 0, 22, 25, 0, 22, 25, 0, 22, 25, 0, 22, 25],\n",
       " [0, 2, 23, 0, 2, 23, 0, 2, 3, 23, 0, 2, 23, 0, 2, 3, 23],\n",
       " [0, 23, 0, 23, 0, 23, 0, 23, 0, 20, 23],\n",
       " [23, 23, 23, 23],\n",
       " [],\n",
       " [1, 1, 1, 11, 1, 1, 11],\n",
       " [6, 25, 6, 25, 6, 25, 6, 25, 6, 25],\n",
       " [0, 3, 0, 3, 0, 5, 0, 3, 0, 5],\n",
       " [23, 23, 23, 23, 23],\n",
       " [7, 7, 7, 7, 7],\n",
       " [0, 0, 0, 0, 0],\n",
       " [0, 0, 26, 0, 0, 26, 0, 26],\n",
       " [21, 21, 21, 21, 21],\n",
       " [23, 23, 23],\n",
       " [0, 21, 25, 0, 2, 21, 25, 0, 2, 21, 25, 0, 2, 21, 25, 0, 2, 21, 25],\n",
       " [7, 24, 0, 7, 24, 7, 24, 7, 24, 7, 24],\n",
       " [0, 5, 0, 5, 0, 5, 0, 5, 0, 5],\n",
       " [0, 2, 3, 5, 0, 2, 3, 5, 0, 2, 3, 5, 0, 2, 3, 5, 0, 2, 3, 5],\n",
       " [18, 18],\n",
       " [4, 5, 4, 5, 25, 3, 4, 3, 4, 25, 4, 5, 25],\n",
       " [25, 25, 25, 25, 25],\n",
       " [0, 7, 0, 7, 0, 7, 0, 7, 0, 7],\n",
       " [25, 25, 19, 25, 19, 25, 25],\n",
       " [18, 19, 18, 19, 18, 19, 19, 18, 19],\n",
       " [0, 3, 0, 3, 5, 0, 3, 0, 3, 0, 3],\n",
       " [4, 25, 4, 25, 4, 25, 4, 25, 4, 25],\n",
       " [12, 21, 12, 21, 12, 21, 0, 12, 21, 12, 21],\n",
       " [0, 23, 0, 23, 0, 23, 0, 23, 0, 23],\n",
       " [23, 23, 23, 23, 23],\n",
       " [0, 14, 16, 0, 14, 0, 14, 0, 14, 16, 0, 14],\n",
       " [25, 25, 25, 25, 25],\n",
       " [0, 23, 0, 23, 0, 23, 0, 23, 0, 23],\n",
       " [0, 4, 0, 4, 0, 4, 0, 4, 0, 4],\n",
       " [0, 5, 0, 0, 0, 0, 5],\n",
       " [2, 2, 2, 2, 2],\n",
       " [7, 7, 7, 7, 7],\n",
       " [1, 1, 1, 1, 1],\n",
       " [21, 21, 21, 21, 21],\n",
       " [25],\n",
       " [0, 2, 0, 2, 0, 2, 0, 2, 0, 2],\n",
       " [0, 25, 0, 25, 0, 25, 0, 25, 0, 25],\n",
       " [0, 13, 22, 0, 13, 22, 0, 13, 22, 0, 13, 22, 0, 22],\n",
       " [0, 0, 0, 0, 0],\n",
       " [21, 21, 21, 21, 21],\n",
       " [25, 17, 25, 16, 17, 25, 17, 25, 17, 25],\n",
       " [16, 17, 25, 16, 17, 18, 25, 17, 18, 25, 17, 18, 25, 16, 17, 18, 25],\n",
       " [12, 21, 12, 21, 12, 21, 12, 21, 12, 21],\n",
       " [2, 2, 2, 2, 2],\n",
       " [4, 25, 4, 25, 4, 25, 4, 25, 4, 25],\n",
       " [0, 2, 0, 5, 0, 0, 0, 2],\n",
       " [0, 1, 0, 1, 0, 1, 0, 0],\n",
       " [0, 0, 0, 0, 0],\n",
       " [3, 3, 3, 5, 3, 3],\n",
       " [6, 6, 6, 1, 25, 6],\n",
       " [6, 6, 6, 6, 6],\n",
       " [4, 4, 4, 4, 0, 4],\n",
       " [0, 25, 0, 25, 0, 25, 0, 25, 0, 25],\n",
       " [25, 21, 25, 25, 21, 25, 25],\n",
       " [2, 3, 2, 3, 2, 3, 2, 3, 2, 3],\n",
       " [2, 25, 0, 2, 25, 0, 2, 25, 2, 25, 0, 2, 25],\n",
       " [7, 7, 7, 7, 7],\n",
       " [21, 21, 21, 21, 21],\n",
       " [23, 23, 23, 23, 23],\n",
       " [23, 23, 23, 23, 23],\n",
       " [0, 2, 11, 0, 2, 11, 0, 2, 11, 0, 2, 11, 0, 2, 11],\n",
       " [7, 7, 7, 7, 7],\n",
       " [2, 3, 2, 3, 2, 3, 2, 3, 2, 3],\n",
       " [2, 23, 2, 23, 2, 23, 2, 23, 2, 23],\n",
       " [0, 2, 0, 2, 0, 0, 2, 0, 2],\n",
       " [0, 25, 0, 25, 0, 25, 0, 25, 0, 25],\n",
       " [25, 25, 25, 25],\n",
       " [3, 4, 2, 3, 4, 3, 4, 3, 4, 3, 4],\n",
       " [0, 25, 0, 25, 0, 25, 0, 25, 0, 25],\n",
       " [0, 25, 25, 25, 0, 25, 0, 25],\n",
       " [6, 6, 6, 6, 6],\n",
       " [4, 4, 4, 4, 4],\n",
       " [14, 14, 14, 11, 14, 14],\n",
       " [0, 5, 25, 0, 5, 25, 0, 5, 25, 0, 25, 0, 5, 25],\n",
       " [4, 4, 4, 4, 4],\n",
       " [0, 0, 0, 0, 0],\n",
       " [0, 22, 0, 22, 0, 22, 0, 22, 0, 22],\n",
       " [0, 21, 25, 0, 21, 25, 0, 21, 25, 0, 21, 25, 0, 21, 25],\n",
       " [25, 25, 25, 25, 25],\n",
       " [0, 13, 0, 13, 0, 13, 0, 13, 0, 13],\n",
       " [4, 4, 4, 4, 4],\n",
       " [0, 1, 0, 1, 0, 1, 0, 1, 0, 1],\n",
       " [25, 0, 25, 0, 25, 0, 25, 0, 25],\n",
       " [25, 25, 25, 25, 25],\n",
       " [0, 25, 25, 25, 25, 25],\n",
       " [2, 25, 2, 25, 2, 25, 2, 25, 2, 25],\n",
       " [0, 25, 0, 25, 0, 25, 0, 25, 0, 25],\n",
       " [7, 7, 7, 7, 7],\n",
       " [25],\n",
       " [0, 7, 0, 7, 0, 7, 0, 7, 0, 7],\n",
       " [0, 23, 0, 23, 0, 23, 0, 23, 0, 23],\n",
       " [23, 23, 23, 23, 23],\n",
       " [21, 21, 21, 21, 21],\n",
       " [2, 2, 2, 2, 2],\n",
       " [0, 0, 0, 25, 0, 25, 0],\n",
       " [21, 25, 21, 25, 21, 25, 21, 25, 21, 25],\n",
       " [21, 21, 21, 21, 2, 21],\n",
       " [0, 0, 0, 0, 0],\n",
       " [0, 4, 21, 25, 0, 4, 21, 25, 0, 4, 21, 25, 0, 4, 21, 25, 0, 4, 21, 25],\n",
       " [2, 7, 23, 2, 7, 23, 7, 23, 2, 7, 23, 25, 2, 7, 23],\n",
       " [0, 0, 0, 0, 0],\n",
       " [0, 7, 0, 7, 0, 7, 0, 7, 0, 7],\n",
       " [21, 7],\n",
       " [0, 7, 25, 0, 7, 25, 0, 4, 7, 25, 0, 7, 25, 0, 4, 7, 25],\n",
       " [13, 13, 13, 13, 13],\n",
       " [0, 2, 0, 2, 0, 0, 2, 0, 2],\n",
       " [0, 21, 0, 21, 0, 21, 0, 21, 0, 21],\n",
       " [21, 21, 21, 21, 21],\n",
       " [7, 7, 7, 7, 7],\n",
       " [23, 23, 0, 23, 23, 23],\n",
       " [25, 25, 25, 25, 25],\n",
       " [3, 3, 3, 3, 3],\n",
       " [19, 19, 19, 23],\n",
       " [0, 3, 25, 0, 3, 25, 0, 3, 25, 0, 3, 25, 0, 3, 25],\n",
       " [1, 1, 1, 25, 1, 1],\n",
       " [0, 3, 0, 0, 0, 0],\n",
       " [],\n",
       " [25, 25, 25, 25, 25],\n",
       " [4, 0, 4, 4, 4, 0, 4],\n",
       " [7, 23, 7, 23, 7, 23, 7, 23, 7, 23],\n",
       " [0, 1, 0, 1, 25, 0, 1, 25, 0, 1, 25, 0, 1, 25],\n",
       " [25, 25, 25, 25, 25],\n",
       " [18, 19, 18, 19, 18, 19, 18, 19, 18, 19],\n",
       " [0, 5, 25, 0, 5, 25, 0, 5, 25, 0, 5, 25, 0, 5, 25],\n",
       " [0, 25, 0, 25, 0, 25, 0, 25, 0, 23, 25],\n",
       " [0, 21, 0, 21, 0, 17, 0, 21, 0, 21],\n",
       " [4, 25, 4, 25, 4, 25, 4, 25, 4, 25],\n",
       " [0, 14, 0, 14, 0, 14, 0, 14, 0, 14],\n",
       " [2, 3, 6, 25, 2, 3, 6, 25, 2, 3, 6, 25, 2, 3, 6, 25, 2, 3, 25],\n",
       " [19, 19, 19, 19, 19],\n",
       " [0, 25, 0, 25, 0, 25, 0, 25, 0, 25],\n",
       " [18, 19, 18, 19, 18, 19, 18, 19, 18, 19],\n",
       " [12, 12, 12, 12, 12],\n",
       " [0, 21, 0, 21, 0, 21, 0, 21, 0, 21],\n",
       " [5, 4, 5, 4, 5, 5, 4, 5],\n",
       " [0, 0, 0, 0, 0],\n",
       " [0, 0, 0, 0, 0],\n",
       " [7, 7, 7, 7, 7],\n",
       " [4, 4, 4, 4, 4],\n",
       " [0, 0, 0, 0, 16, 0],\n",
       " [2, 7, 2, 7, 2, 7, 2, 2, 7],\n",
       " [2, 2, 2, 2, 2],\n",
       " [23, 23, 23, 23, 23],\n",
       " [14, 14, 14, 14, 14],\n",
       " [0, 2, 25, 0, 2, 25, 0, 2, 25, 2, 25, 0, 2, 25],\n",
       " [0, 11, 0, 11, 0, 11, 0, 11, 0, 11],\n",
       " [2, 3, 23, 2, 3, 7, 21, 2, 3, 7, 21, 2, 3, 21, 23, 2, 3, 7],\n",
       " [21, 21, 21, 21, 21],\n",
       " [21, 21, 21, 21, 21],\n",
       " [0, 0, 0, 25, 0, 0],\n",
       " [0, 25, 0, 25, 0, 25, 0, 25, 0, 25],\n",
       " [0, 0, 0, 0, 0],\n",
       " [7, 7, 7, 7, 7],\n",
       " [0, 0, 0, 0, 0],\n",
       " [21, 23, 21, 23, 21, 23, 21, 23, 21, 23],\n",
       " [0, 2, 23, 0, 2, 23, 0, 2, 23, 0, 2, 23, 0, 2, 7, 23],\n",
       " [25, 25, 25, 25, 25],\n",
       " [0, 21, 0, 0, 21, 0, 21, 0],\n",
       " [21, 21, 25],\n",
       " [0, 25, 0, 0, 25, 0, 0, 25],\n",
       " [25, 25, 25, 25, 25],\n",
       " [23],\n",
       " [25, 25, 25, 25, 25],\n",
       " [0, 0, 0, 0, 25, 0, 25],\n",
       " [14, 25, 14, 16, 25, 14, 16, 25, 14, 16, 25, 14, 16, 25],\n",
       " [0, 0, 19, 0, 0, 0, 19],\n",
       " [7, 25, 7, 25, 25, 25, 25],\n",
       " [24, 24, 24, 24, 24],\n",
       " [0, 16, 25, 0, 16, 25, 0, 16, 25, 0, 16, 25, 0, 16, 25],\n",
       " [7, 7, 7, 7, 7],\n",
       " [0, 0, 0, 0, 0],\n",
       " [23, 23, 23, 23, 25, 23],\n",
       " [0, 25, 0, 25, 0, 25, 0, 25, 0, 25],\n",
       " [5, 5, 23, 21],\n",
       " [6, 11, 6, 6, 6, 11, 6, 11],\n",
       " [5, 25, 5, 25, 5, 18, 25, 5, 25, 5, 25],\n",
       " [21, 21, 21, 12, 21, 12, 21],\n",
       " [0, 0, 0, 0, 0],\n",
       " [21, 21, 21, 21, 21],\n",
       " [4, 4, 4, 4, 4],\n",
       " [23, 23, 23, 23, 6, 23],\n",
       " [21, 21, 21, 21, 21],\n",
       " [0, 7, 23, 0, 7, 0, 23, 0, 7, 0, 7],\n",
       " [23, 7, 23, 23, 23, 7, 23],\n",
       " [0, 13, 22, 0, 13, 22, 0, 13, 22, 0, 13, 22, 0, 13, 22],\n",
       " [6, 6, 6, 6, 6],\n",
       " [21, 19, 21, 19, 21, 21, 22, 22],\n",
       " [0, 25, 0, 25, 0, 25, 0, 25, 0, 25],\n",
       " [5, 19, 25, 5, 19, 5, 19, 5, 5],\n",
       " [2, 3, 2, 3, 2, 3, 2, 3, 2, 3],\n",
       " [2, 14, 15, 16, 2, 14, 2, 14, 16, 2, 12, 14, 15, 2, 14, 16],\n",
       " [6, 6, 6],\n",
       " [23, 23, 11],\n",
       " [1, 1, 1, 1, 1],\n",
       " [23, 23, 23, 23, 23],\n",
       " [0, 25, 0, 25, 0, 25, 0, 25, 0, 25],\n",
       " [23, 25, 25, 23, 25, 25, 23, 25],\n",
       " [5, 21, 5, 21, 5, 21, 5, 21, 5, 21],\n",
       " [0, 0, 0, 0, 0],\n",
       " [19, 19, 19, 19, 19],\n",
       " [4, 7, 4, 7, 4, 7, 4, 7, 4, 7],\n",
       " [0, 12, 21, 0, 12, 21, 0, 12, 21, 0, 12, 21, 12, 21],\n",
       " [0, 0, 0, 0, 25, 0],\n",
       " [7, 25, 7, 23, 25, 7, 25, 7, 25, 7, 25],\n",
       " [14, 14, 16, 14, 14, 16, 14],\n",
       " [21, 14, 21, 14, 21, 14, 21, 21],\n",
       " [5, 19, 5, 19, 5, 19, 5, 19],\n",
       " [21, 21, 21, 5, 21, 21],\n",
       " [23, 23, 23, 23, 23],\n",
       " [1, 1, 1, 1, 1],\n",
       " [0, 25, 0, 25, 0, 25, 0, 25, 0, 25],\n",
       " [7, 19, 7, 19, 7, 19, 7, 7, 19],\n",
       " [],\n",
       " [3, 5, 5, 5, 5, 3, 5],\n",
       " [0, 0, 12, 0, 0, 12, 0],\n",
       " [14, 11, 14, 14, 14, 14],\n",
       " [25, 25, 23, 25, 25, 25],\n",
       " [0, 21, 0, 21, 0, 21, 0, 21, 0, 21],\n",
       " [5, 21, 22, 5, 21, 22, 5, 21, 22, 5, 21, 22, 5, 21, 22],\n",
       " [21, 21, 21, 22, 21, 21, 22],\n",
       " [25, 25, 25, 0, 25, 0, 25],\n",
       " [25, 25, 25, 25, 25],\n",
       " [12, 21, 21, 12, 21, 2, 21, 21],\n",
       " [25, 25, 25, 25],\n",
       " [0, 7, 0, 7, 0, 7, 0, 7, 0, 7],\n",
       " [0, 25, 0, 25, 0, 25, 0, 25, 0, 25],\n",
       " [3, 25, 3, 25, 3, 5, 25, 3, 25, 3, 5, 25],\n",
       " [14, 14, 14, 14, 14],\n",
       " [0, 5, 7, 0, 5, 7, 0, 5, 7, 0, 5, 7, 0, 5, 7],\n",
       " [0, 19, 0, 19, 0, 19, 0, 19, 0, 19],\n",
       " [5, 5, 5, 5, 5],\n",
       " [7, 23, 7, 7, 23, 7, 23],\n",
       " [21, 22, 21, 22, 21, 22, 21, 22, 21, 22],\n",
       " [13, 13, 13, 13, 13],\n",
       " [0, 0, 0, 0, 4, 0],\n",
       " [2, 23, 25, 2, 23, 25, 2, 23, 25, 2, 23, 25, 2, 23, 25],\n",
       " [0, 7, 0, 7, 0, 7, 0, 7, 0, 7],\n",
       " [11, 23, 11, 23, 11, 23, 11, 23, 11, 12],\n",
       " [0, 25, 0, 25, 0, 1, 25, 0, 25, 0, 1, 25],\n",
       " [25, 25, 25, 25, 25],\n",
       " [5, 5, 5, 5, 5],\n",
       " [],\n",
       " [21, 25, 21, 25, 21, 25, 21, 25, 21, 25],\n",
       " [21, 25, 21, 25, 21, 25, 21, 25],\n",
       " [0, 0, 0, 0, 0],\n",
       " [2, 3, 5, 2, 3, 5, 2, 3, 5, 2, 3, 5, 2, 3, 5],\n",
       " [2, 2, 2, 2, 2],\n",
       " [5, 21, 5, 21, 5, 21, 5, 21, 5, 21],\n",
       " [0, 0],\n",
       " [1, 1, 1, 1, 1],\n",
       " [0, 1, 18, 19, 0, 1, 18, 19, 0, 1, 18, 19, 0, 1, 18, 19, 0, 1, 18, 19],\n",
       " [11],\n",
       " [0, 18, 19, 0, 19, 0, 19, 0, 19, 0, 19],\n",
       " [0, 4, 5, 0, 5, 0, 5, 0, 4, 5, 0, 4, 5],\n",
       " [0, 19, 0, 19, 0, 19, 0, 19, 0, 19],\n",
       " [0, 22, 0, 22, 0, 16, 22, 0, 16, 22, 0, 16, 22],\n",
       " [0, 25, 0, 25, 0, 25, 0, 25, 0, 25],\n",
       " [4, 2, 4, 4, 7, 2, 4, 4],\n",
       " [7, 7, 7, 7, 7],\n",
       " [5, 5, 5, 5, 5],\n",
       " [5, 25, 5, 25, 5, 25, 5, 25, 5, 25],\n",
       " [21, 21, 21, 21, 21],\n",
       " [14, 16, 17, 14, 16, 17, 25, 14, 16, 17, 25, 14, 16, 17, 25, 14, 16, 17],\n",
       " [0, 21, 22, 0, 21, 22, 0, 21, 22, 0, 21, 22, 0, 21, 22],\n",
       " [0, 25, 0, 25, 0, 25, 0, 25, 0, 25],\n",
       " [7, 7, 7, 7, 7],\n",
       " [5, 25, 5, 25, 5, 25, 5, 25, 5, 25],\n",
       " [7, 19, 19, 7, 19, 19, 19],\n",
       " [1, 1, 25, 1, 25, 1, 25, 1],\n",
       " [0, 21, 0, 21, 0, 21, 0, 21, 0, 21],\n",
       " [19, 26, 19, 26, 26, 19, 26, 19, 26],\n",
       " [18, 19, 18, 19, 7, 18, 19, 7, 18, 19, 18, 19],\n",
       " [23, 23, 23, 23, 23],\n",
       " [1, 1, 25, 1, 1, 25, 1, 25],\n",
       " [0, 4, 14, 0, 4, 14, 0, 4, 14, 0, 4, 14, 0, 4, 14],\n",
       " [22, 22, 13, 22, 22, 22],\n",
       " [0, 25, 0, 25, 0, 25, 0, 25, 0, 25],\n",
       " [0, 2, 0, 2, 0, 2, 0, 2, 5, 0, 2],\n",
       " [0, 22, 0, 22, 0, 22, 0, 22, 0, 22],\n",
       " [0, 0, 21, 0, 0, 21, 0],\n",
       " [0, 25, 0, 25, 0, 25, 0, 25, 0, 25],\n",
       " [0, 16, 25, 0, 16, 25, 0, 16, 25, 0, 16, 25, 0, 16, 25],\n",
       " [0, 7, 25, 0, 7, 25, 0, 7, 25, 0, 5, 25, 0, 7, 25],\n",
       " [23, 23, 23, 23, 23],\n",
       " [0, 21, 0, 21, 0, 21, 0, 5, 21, 0, 2, 21],\n",
       " [4, 4, 4, 4, 4],\n",
       " [13, 13, 13, 13, 13],\n",
       " [0, 25, 25, 25, 0, 25, 0, 25],\n",
       " [11, 11, 11, 11],\n",
       " [0, 0, 0, 0, 0],\n",
       " [0, 1, 25, 0, 1, 25, 0, 1, 25, 0, 1, 25, 0, 1, 25],\n",
       " [5, 14, 5, 14, 5, 14, 5, 14, 5, 14],\n",
       " [5, 5, 5, 5, 5],\n",
       " [2, 2, 2, 2, 2],\n",
       " [23, 23, 23, 23, 23],\n",
       " [14, 14, 14, 14, 14],\n",
       " [0, 2, 25, 0, 2, 25, 0, 2, 25, 0, 2, 25, 0, 2, 25],\n",
       " [5, 5, 5, 5, 5],\n",
       " [11, 11, 11, 11, 11],\n",
       " [0, 7, 0, 7, 7, 0, 7, 7],\n",
       " [0, 2, 0, 2, 0, 2, 0, 0, 2],\n",
       " [3, 3, 3, 3, 3],\n",
       " [0, 21, 0, 21, 0, 21, 0, 21, 0, 21],\n",
       " [0, 25, 0, 25, 0, 25, 0, 25, 0, 25],\n",
       " [21, 25, 21, 21, 21, 25, 21, 25],\n",
       " [1, 6, 25, 1, 6, 25, 1, 6, 25, 1, 6, 25, 1, 6, 25],\n",
       " [25, 25],\n",
       " [0, 21, 0, 0, 0, 21, 0],\n",
       " [11, 11, 11],\n",
       " [2, 2, 2, 2, 2],\n",
       " [2, 4, 4, 5, 4, 5, 2, 4, 5, 4, 5],\n",
       " [21, 21, 21, 21, 21],\n",
       " [0, 18, 0, 18, 0, 18, 0, 18, 0, 18],\n",
       " [21, 21, 21, 21, 21],\n",
       " [25, 25, 25, 25, 25],\n",
       " [0, 7, 25, 0, 7, 25, 0, 7, 25, 0, 7, 25, 0, 7, 25],\n",
       " [19, 19, 19, 19, 19],\n",
       " [0, 2, 0, 2, 0, 2, 0, 2, 0, 2],\n",
       " [0, 2, 0, 2, 0, 2, 0, 2, 0, 2],\n",
       " [0, 0, 0, 0, 0],\n",
       " [0, 2, 3, 0, 2, 0, 2, 3, 0, 2, 3, 0, 2, 3],\n",
       " [0, 0, 0, 0, 0],\n",
       " [0, 25, 0, 25, 0, 25, 0, 25, 0, 25],\n",
       " [0, 13, 22, 0, 13, 22, 0, 13, 22, 0, 13, 22, 0, 13, 22, 25],\n",
       " [5, 5, 5, 5, 4, 5],\n",
       " [21, 25, 21, 25, 21, 25, 21, 21, 25],\n",
       " [0, 2, 7, 0, 2, 7, 0, 2, 7, 0, 2, 7, 0, 2, 7],\n",
       " [0, 1, 2, 0, 1, 2, 0, 1, 2, 0, 1, 2, 0, 1, 2],\n",
       " [0, 0, 0, 0],\n",
       " [0, 25, 0, 25, 0, 25, 0, 25, 0, 25],\n",
       " [23, 25, 23, 25, 0, 23, 25, 0, 23, 25, 0, 23, 25],\n",
       " [23, 23, 23, 23, 23],\n",
       " [2, 15, 15],\n",
       " [0, 3, 25, 0, 3, 25, 0, 3, 25, 0, 3, 25, 0, 3, 25],\n",
       " [23, 23, 23, 23, 23],\n",
       " [26, 26, 20, 26],\n",
       " [21, 21, 21, 21, 21],\n",
       " [21, 21, 18, 21, 21, 21],\n",
       " [0, 13, 0, 13, 0, 13, 0, 13, 0, 13],\n",
       " [25, 25, 25, 25],\n",
       " [23, 23],\n",
       " [0, 21, 0, 21, 0, 21, 0, 21, 21],\n",
       " [0, 0, 0, 0, 0],\n",
       " [23, 23, 23, 23, 23],\n",
       " [2, 21, 2, 21, 0, 2, 21, 0, 2, 21, 2, 21],\n",
       " [0, 0, 0, 0, 0],\n",
       " [0, 25, 0, 25, 25, 0, 25, 0, 25],\n",
       " [0, 5, 0, 5, 0, 5, 0, 5, 0, 5],\n",
       " [25, 25, 21, 25, 25, 25],\n",
       " [0, 1, 0, 1, 0, 1, 0, 1, 0, 1],\n",
       " [0, 25, 0, 25, 0, 25, 0, 25, 0, 5, 25],\n",
       " [23, 23, 23, 23, 23],\n",
       " [25, 25, 25, 25, 25],\n",
       " [25, 25, 25, 25, 25],\n",
       " [0, 2, 0, 2, 0, 2, 0, 2, 0, 2, 3, 25],\n",
       " [14, 14, 14, 14, 14],\n",
       " [5, 7, 5, 7, 5, 7, 5, 7, 5, 7],\n",
       " [25, 25, 25, 14, 25, 25],\n",
       " [7, 7, 21, 7, 7, 7, 21],\n",
       " [19, 21, 19, 18, 21],\n",
       " [7, 23, 7, 7, 7, 7, 23],\n",
       " [7, 7, 7, 7, 7],\n",
       " [7, 7, 7, 7, 7],\n",
       " [22, 22, 22],\n",
       " [23, 23, 23, 23, 23],\n",
       " [0, 5, 21, 25, 0, 5, 21, 25, 0, 5, 21, 25, 0, 5, 21, 25, 0, 5, 25],\n",
       " [25, 25, 25, 14, 25, 25],\n",
       " [0, 0, 0, 0, 0],\n",
       " [14, 16, 25, 14, 16, 25, 14, 16, 25, 14, 16, 25, 14, 16, 25],\n",
       " [6, 6, 6, 6],\n",
       " [0, 2, 16, 0, 2, 16, 0, 2, 16, 0, 2, 16, 0, 2, 16],\n",
       " [21, 25, 21, 25, 21, 25, 21, 25, 21, 25],\n",
       " [0, 25, 0, 0, 25, 0, 0, 25],\n",
       " [11, 23, 11, 23, 11, 23, 11, 11, 23],\n",
       " [14, 14, 14, 14, 14],\n",
       " [0, 5, 21, 0, 0, 21, 0, 21, 0, 21],\n",
       " [14, 14, 14, 14, 14],\n",
       " [25, 25, 25, 25],\n",
       " [0, 25, 0, 25, 0, 25, 0, 25, 0, 25],\n",
       " [23, 23, 23, 23, 23],\n",
       " [5, 5, 5, 5, 5],\n",
       " [2, 7, 2, 7, 2, 7, 2, 7, 2, 7],\n",
       " [7, 23, 7, 23, 7, 23, 7, 23, 7, 23],\n",
       " [0, 0, 0, 0, 0],\n",
       " [0, 0, 0, 0, 0],\n",
       " [0, 26, 0, 26, 0, 26, 0, 26, 0, 26],\n",
       " [0, 25, 0, 25, 0, 25, 0, 25, 0, 25],\n",
       " [25, 25, 25, 25, 25],\n",
       " [7, 7, 7, 7, 23],\n",
       " [0, 25, 0, 25, 0, 0, 25, 0, 25],\n",
       " [21, 25, 21, 25, 21, 25, 21, 25, 21, 25],\n",
       " [0, 2, 25, 0, 2, 0, 2, 25, 0, 2, 25, 0, 2, 25],\n",
       " [0, 25, 0, 25, 0, 25, 0, 25, 0, 19, 25],\n",
       " [12, 12, 12, 12, 12],\n",
       " [0, 4, 0, 0, 4, 0, 0],\n",
       " [0, 5, 25, 0, 5, 25, 0, 5, 25, 0, 5, 25, 0, 5, 25],\n",
       " [0, 4, 21, 0, 4, 21, 0, 4, 21, 0, 4, 21, 0, 4, 21],\n",
       " [21, 21, 21, 21, 21],\n",
       " [23, 23, 23, 23, 23],\n",
       " [18, 19, 25, 18, 25, 18, 25, 18, 25, 18, 25],\n",
       " [0],\n",
       " [0, 19, 23, 0, 19, 0, 19, 23, 0, 19, 23, 0],\n",
       " [2, 23, 2, 23, 2, 23, 2, 23, 2, 23],\n",
       " [11, 11, 11, 11, 11],\n",
       " [2, 3, 2, 2, 3, 2, 2],\n",
       " [0, 0, 7, 0, 7, 0, 7, 23, 0, 7, 25],\n",
       " [0, 7, 0, 7, 0, 7, 0, 7, 0, 7],\n",
       " [5, 7, 5, 7, 5, 7, 5, 7, 5, 7],\n",
       " [0, 0, 0, 4, 0, 4, 0],\n",
       " [16, 17, 17, 18, 17, 18, 17, 18, 17, 18],\n",
       " [14],\n",
       " [0, 0, 0, 0, 0],\n",
       " [25, 25, 21, 25, 25, 25],\n",
       " [0, 13, 0, 13, 0, 13, 0, 13, 0, 13],\n",
       " [0, 25, 0, 25, 0, 25, 0, 0, 25],\n",
       " [25, 25, 25, 25, 25],\n",
       " [0, 25, 0, 25, 0, 25, 0, 25, 0, 25],\n",
       " [25, 25, 25, 25, 25],\n",
       " [25, 25, 25, 25],\n",
       " [25, 25, 2, 25, 2, 25, 25],\n",
       " [21, 25, 21, 25, 21, 25, 21, 25, 21, 25],\n",
       " [0, 21, 0, 21, 0, 21, 0, 21, 0, 21],\n",
       " [25, 25, 25, 25, 25],\n",
       " [21, 21, 21],\n",
       " [0, 25, 0, 25, 0, 25, 0, 25, 0, 25],\n",
       " [0, 0, 0, 0, 0],\n",
       " [0, 0, 0, 0, 0],\n",
       " [0, 0, 0, 0, 0],\n",
       " [2, 3, 3, 3, 3, 3],\n",
       " [0, 19, 0, 19, 0, 19, 0, 19, 0, 19],\n",
       " [0, 5, 0, 5, 0, 5, 0, 5, 0, 5],\n",
       " [2, 2, 21, 2, 21, 2, 21, 2, 21],\n",
       " [0, 25, 0, 25, 0, 25, 0, 25, 0, 25],\n",
       " [0, 0, 0, 0, 0],\n",
       " [0, 19, 0, 5, 0, 19, 0, 5, 0],\n",
       " [0, 3, 0, 3, 0, 3, 0, 3, 0, 3],\n",
       " [7, 7, 7, 7, 7],\n",
       " [26],\n",
       " [0, 25, 0, 0, 25, 0, 0, 25],\n",
       " [21, 21, 21, 21, 21],\n",
       " [19, 21, 21, 21, 19, 21, 21],\n",
       " [21, 21, 21, 21, 21],\n",
       " [0, 25, 0, 25, 0, 25, 0, 25, 0, 25],\n",
       " [],\n",
       " [14, 16, 14, 16, 14, 16, 14, 16, 14, 16],\n",
       " [21, 21, 21, 21, 21],\n",
       " [0, 21, 25, 0, 25, 0, 21, 25, 0, 25, 0, 25],\n",
       " [0, 19, 0, 19, 0, 19, 0, 19, 0, 19],\n",
       " [6],\n",
       " [0, 0, 2, 0, 0, 0],\n",
       " [21],\n",
       " [0, 19, 0, 19, 0, 18, 19, 0, 18, 19, 0, 19],\n",
       " [21, 21, 21, 21, 21],\n",
       " [0, 0, 0, 0, 0, 23],\n",
       " [0, 0, 0, 5, 0, 0],\n",
       " [0, 1, 0, 1, 0, 1, 16, 0, 1, 16, 0, 1, 16],\n",
       " [25, 25, 25, 25, 25],\n",
       " [0, 0, 25, 0, 0, 25, 0],\n",
       " [12, 12, 12, 12, 12],\n",
       " [25, 25, 25, 25, 25],\n",
       " [0, 16, 17, 0, 16, 17, 0, 16, 17, 0, 16, 17, 0, 16, 17],\n",
       " [0, 5, 0, 5, 0, 5, 0, 5, 0, 5],\n",
       " [11, 24, 11, 24, 11, 24, 11, 24, 11, 24],\n",
       " [3, 5, 3, 5, 3, 5, 22, 3, 5, 5, 22],\n",
       " [0, 2, 0, 2, 0, 2, 0, 2, 0, 2],\n",
       " [0, 5, 0, 5, 0, 5, 0, 5, 0, 5],\n",
       " [11, 11, 11, 11, 11],\n",
       " [0, 0, 0, 0, 0],\n",
       " [0, 0, 0, 0, 0],\n",
       " [1, 1, 1, 23, 1, 1, 23],\n",
       " [25, 25, 25, 25, 25],\n",
       " [6, 6, 6, 6, 6],\n",
       " [23, 23, 23, 23, 25, 23],\n",
       " [0, 0, 0, 2, 0, 0],\n",
       " [22, 23, 22, 11, 22, 5, 22, 23],\n",
       " [23, 23, 23, 23, 23],\n",
       " [0, 5, 0, 5, 0, 5, 0, 5, 0, 5],\n",
       " [21, 21, 21, 21, 21],\n",
       " [0, 23, 0, 23, 0, 23, 0, 23, 0, 23],\n",
       " [0, 23, 0, 23, 0, 23, 0, 23, 0, 23],\n",
       " [2, 25, 25],\n",
       " [25, 25, 25, 25, 25],\n",
       " [0, 4, 0, 4, 0, 4, 0, 4, 0, 4],\n",
       " [5, 5, 5, 5, 5],\n",
       " [23, 23, 23, 23, 23],\n",
       " [21, 22, 21, 22, 21, 21, 22, 21],\n",
       " [2, 7, 23, 2, 7, 23, 2, 7, 23, 2, 23, 2, 7, 23],\n",
       " [1, 7, 1, 7, 1, 7, 1, 7, 1, 7],\n",
       " [6, 6, 6, 1, 6, 6],\n",
       " [26, 26, 26, 26],\n",
       " [2, 25, 2, 25, 2, 25, 25, 2, 25],\n",
       " [0, 25, 0, 0, 0, 0, 25],\n",
       " [0, 7, 0, 7, 0, 7, 0, 7, 0, 7],\n",
       " [21, 21, 0, 21, 21, 21],\n",
       " [0, 13, 22, 0, 13, 22, 0, 13, 22, 0, 22, 0, 13, 22],\n",
       " [23, 23, 23, 23, 23],\n",
       " [25],\n",
       " [0, 25, 0, 0, 25, 0, 0, 25],\n",
       " [4, 4, 4, 4, 4],\n",
       " [0, 25, 0, 25, 0, 25, 0, 25, 0, 25],\n",
       " [0, 5, 0, 5, 0, 5, 0, 5, 0, 5],\n",
       " [19, 21, 19, 21, 19, 21, 19, 21, 19, 21],\n",
       " [0, 3, 3, 0, 3, 0, 3, 0, 3],\n",
       " [19, 19, 19, 19, 19],\n",
       " [0, 0],\n",
       " [],\n",
       " [26, 26, 26, 26, 26],\n",
       " [0, 7, 0, 7, 0, 7, 0, 7, 0, 7],\n",
       " [14, 14, 14, 14, 14],\n",
       " [25, 25, 25, 25, 25],\n",
       " [7, 7, 7, 7, 18, 7, 18],\n",
       " [0, 2, 25, 2, 25, 2, 25, 2, 25, 2, 25],\n",
       " [7, 7, 7, 7, 7],\n",
       " [25, 25, 25, 25, 25],\n",
       " [0, 0, 0, 0, 0],\n",
       " [23, 25, 23, 25, 25, 25, 23, 25],\n",
       " [0, 25, 25, 25, 0, 25, 0, 25],\n",
       " [0, 3, 0, 3, 0, 3, 0, 3, 0, 3],\n",
       " [23],\n",
       " [0, 25, 0, 25, 0, 25, 0, 25, 25],\n",
       " [2, 7, 25, 2, 7, 25, 2, 7, 25, 2, 7, 25, 2, 7, 25],\n",
       " [0, 25, 0, 25, 0, 25, 0, 25, 0, 25],\n",
       " [6, 6, 25, 6, 6, 6, 25],\n",
       " [11, 11, 19, 11, 19],\n",
       " [4, 4, 4, 4, 4],\n",
       " [4, 4, 4, 4, 4],\n",
       " [21, 25, 21, 21, 21, 21],\n",
       " [14, 16, 14, 16, 14, 16, 14, 16, 14, 16],\n",
       " [21, 21, 0, 21, 21, 21],\n",
       " [0, 3, 22, 25, 0, 3, 22, 25, 0, 3, 25, 0, 2, 3, 22, 25, 0, 3, 22, 25],\n",
       " [19, 19, 19, 19, 19],\n",
       " [23, 23],\n",
       " [],\n",
       " [0, 21, 25, 0, 21, 25, 0, 21, 25, 0, 21, 25, 0, 21, 25],\n",
       " [0, 21, 21, 0, 21, 21, 21],\n",
       " [21, 21, 21, 21, 21],\n",
       " [1, 13, 22, 25, 1, 6, 22, 1, 13, 22, 1, 6, 13, 22, 25, 1, 6, 13, 22],\n",
       " [23, 23, 23, 25],\n",
       " [0, 2, 3, 0, 2, 3, 0, 2, 3, 0, 2, 3, 0, 2, 3],\n",
       " [7, 7, 7, 7, 7],\n",
       " [0, 1, 25, 0, 1, 25, 0, 1, 25, 0, 1, 25, 0, 1, 25],\n",
       " [2, 3, 5, 2, 3, 2, 3, 2, 3, 2, 3, 5],\n",
       " [4, 2, 4, 2, 4, 2, 4, 4],\n",
       " [0, 25, 0, 25, 0, 25, 0, 25, 0, 25],\n",
       " [14, 16, 25, 14, 16, 25, 14, 16, 25, 14, 16, 25, 14, 16, 25],\n",
       " [0, 3, 0, 3, 0, 3, 0, 3, 0, 2, 3],\n",
       " [25, 25, 25, 25, 25],\n",
       " [4, 25, 4, 25, 4, 25, 4, 25, 4, 25],\n",
       " [4, 21, 21, 4, 21, 4, 21, 4, 21],\n",
       " [0, 25, 0, 25, 0, 25, 0, 25, 0, 25],\n",
       " [19, 0, 19, 0, 19, 19, 0],\n",
       " [0, 0, 0, 0, 0],\n",
       " [0, 0, 0, 18, 0, 25, 0],\n",
       " [0, 11, 0, 11, 0, 11, 0, 11, 0, 11],\n",
       " [23, 25],\n",
       " [7, 7, 7, 19, 7, 19, 7],\n",
       " [12, 12, 12, 12, 12],\n",
       " [7, 7, 7, 7, 7],\n",
       " [0, 23, 0, 23, 0, 23, 0, 23, 0, 23],\n",
       " [0, 25, 0, 25, 0, 25, 0, 25, 0, 25],\n",
       " [0, 7, 0, 7, 0, 7, 0, 7, 0, 7],\n",
       " [7, 7, 7, 7, 7],\n",
       " [21, 25, 21, 25, 21, 25, 21, 25, 21, 25],\n",
       " [0, 25, 0, 25, 0, 25, 0, 25, 0, 25],\n",
       " [0, 4, 5, 0, 4, 5, 0, 5, 0, 4, 5, 0, 5],\n",
       " [0, 4, 0, 4, 0, 4, 0, 0, 4],\n",
       " [0, 22, 0, 22, 0, 5, 22, 0, 22, 0, 22],\n",
       " [0, 0, 0, 0, 0],\n",
       " [0, 2, 0, 0, 2, 0, 2, 0],\n",
       " [0, 16, 0, 16, 0, 16, 25, 0, 16, 0, 16, 25],\n",
       " [0, 25, 0, 25, 0, 25, 0, 25, 0, 25],\n",
       " [21, 21, 21, 21, 21],\n",
       " [11, 23, 11, 11, 11, 11],\n",
       " [0, 7, 0, 7, 0, 7, 0, 7, 0, 7],\n",
       " [0],\n",
       " [3, 3, 3, 3, 3],\n",
       " [5, 21, 23, 25, 21, 23, 25, 5, 21, 25, 21, 25, 4, 5, 21, 23, 25],\n",
       " [0, 3, 0, 3, 0, 3, 5, 23, 0, 3, 0, 3, 5],\n",
       " [2, 3, 2, 3, 2, 3, 2, 3, 2, 3],\n",
       " [25, 7, 25, 18, 25, 25, 18, 25],\n",
       " [25, 25, 25, 25, 25],\n",
       " [5, 5, 5, 5, 5],\n",
       " [5, 5, 0],\n",
       " [2, 2, 2, 2, 2],\n",
       " [0, 1, 0, 1, 0, 1, 0, 1, 0, 1],\n",
       " [0, 2, 0, 2, 0, 2, 0, 2, 0, 2],\n",
       " [0, 2, 0, 2, 0, 2, 0, 2, 0, 2],\n",
       " [5, 5, 5, 5, 5],\n",
       " [0, 25, 0, 0, 0, 1, 0, 25],\n",
       " [0, 21, 0, 21, 0, 21, 0, 21, 0, 21],\n",
       " [0, 0, 2, 0, 2, 0, 2, 0, 2],\n",
       " [23, 25, 23, 25, 23, 25, 23, 25, 23, 25],\n",
       " ...]"
      ]
     },
     "execution_count": 45,
     "metadata": {},
     "output_type": "execute_result"
    }
   ],
   "source": [
    "pred_sum = []\n",
    "for i in range(len(pred_1)):\n",
    "    pred_sum.append(pred_1[i]+pred_2[i]+pred_3[i]+pred_4[i]+pred_5[i])\n",
    "pred_sum"
   ]
  },
  {
   "cell_type": "code",
   "execution_count": 55,
   "metadata": {},
   "outputs": [
    {
     "name": "stdout",
     "output_type": "stream",
     "text": [
      "36 [4]\n",
      "62 [25, 25]\n",
      "63 [25, 25]\n",
      "80 [0]\n",
      "82 [0]\n",
      "197 []\n",
      "215 [0, 0]\n",
      "216 []\n",
      "222 []\n",
      "258 [25, 2]\n",
      "260 [21, 21]\n",
      "261 [19, 19, 26]\n",
      "268 [7, 7, 0, 0]\n",
      "300 [22]\n",
      "304 []\n",
      "331 []\n",
      "340 []\n",
      "398 []\n",
      "408 []\n",
      "422 [18, 18]\n",
      "442 [25]\n",
      "496 [25]\n",
      "510 [21, 7]\n",
      "524 []\n",
      "566 [21, 21, 25]\n",
      "569 [23]\n",
      "581 [5, 5, 23, 21]\n",
      "600 [23, 23, 11]\n",
      "620 []\n",
      "649 []\n",
      "656 [0, 0]\n",
      "659 [11]\n",
      "714 [25, 25]\n",
      "748 [23, 23]\n",
      "767 [19, 21, 19, 18, 21]\n",
      "808 [0]\n",
      "818 [14]\n",
      "845 [26]\n",
      "851 []\n",
      "856 [6]\n",
      "858 [21]\n",
      "888 [2, 25, 25]\n",
      "904 [25]\n",
      "912 [0, 0]\n",
      "913 []\n",
      "926 [23]\n",
      "939 [23, 23]\n",
      "940 []\n",
      "962 [23, 25]\n",
      "982 [0]\n",
      "990 [5, 5, 0]\n",
      "1050 [25, 25]\n",
      "1112 []\n",
      "1186 [21, 14, 21]\n",
      "1239 [0]\n",
      "1247 []\n",
      "1315 [23, 21]\n",
      "1331 []\n",
      "1335 []\n",
      "1357 []\n",
      "1361 []\n",
      "1377 [2, 2, 25]\n",
      "1402 []\n",
      "1409 [11, 11]\n",
      "1410 [26, 26]\n",
      "1411 [23, 23]\n",
      "1424 [19, 19, 25]\n",
      "1436 [23]\n",
      "1442 [23]\n",
      "1457 [14]\n",
      "1481 []\n",
      "1506 []\n",
      "1511 []\n",
      "1534 []\n",
      "1536 [7]\n",
      "1572 []\n",
      "1592 [5, 14, 5]\n",
      "1615 [2, 25, 2, 25]\n",
      "1616 [2, 2, 4]\n",
      "1653 [21]\n",
      "1691 [21, 18, 21]\n",
      "1715 [0, 0]\n",
      "1732 []\n",
      "1768 [21, 23, 25, 21, 25]\n",
      "1769 [22]\n",
      "1787 [0]\n",
      "1800 [14]\n",
      "1808 [25, 23, 25, 23]\n",
      "1851 [0]\n",
      "1884 [6, 7, 6, 7]\n",
      "1887 []\n",
      "1894 [23]\n",
      "1987 [4, 23]\n",
      "2007 []\n",
      "2029 [19, 19]\n",
      "2074 []\n",
      "2081 []\n",
      "2105 [2]\n",
      "2145 [14, 14]\n",
      "2172 [11]\n",
      "2207 [26]\n",
      "2270 [25]\n",
      "2284 [23, 23]\n",
      "2300 []\n",
      "2326 [1]\n",
      "2420 [25, 0]\n",
      "2422 [7, 7]\n",
      "2467 []\n",
      "2479 [23]\n",
      "2516 [23, 25]\n",
      "2522 [23, 23]\n",
      "2523 [26, 26]\n",
      "2526 []\n",
      "2538 [21]\n",
      "2540 []\n",
      "2583 [7, 7]\n",
      "2606 []\n",
      "2630 []\n",
      "2647 []\n",
      "2668 [25, 25]\n",
      "2790 []\n",
      "2811 [21]\n",
      "2838 [7, 18, 25]\n",
      "2854 []\n",
      "2887 []\n",
      "2945 [3, 3]\n",
      "2955 []\n",
      "2963 [23]\n",
      "2999 [19, 19]\n",
      "3018 [23]\n",
      "3059 []\n",
      "3063 [21]\n",
      "3066 []\n",
      "3115 [23, 2]\n",
      "3122 [11]\n",
      "3167 []\n",
      "3172 [7]\n",
      "3187 [16, 0, 16]\n",
      "3198 []\n",
      "3237 []\n",
      "3247 [25, 25]\n",
      "3250 [5, 14]\n",
      "3256 [21]\n",
      "3282 []\n",
      "3300 [21]\n",
      "3309 [6, 21, 25, 6, 21, 25]\n",
      "3386 [3, 7]\n",
      "3402 [4, 0, 5, 0, 5]\n",
      "3407 [26]\n",
      "3467 [25]\n",
      "3493 []\n",
      "3508 [26, 26]\n",
      "3512 []\n",
      "3549 []\n",
      "3595 [25, 21]\n",
      "3596 [23]\n",
      "3653 []\n",
      "3758 []\n",
      "3821 [0, 4, 0]\n",
      "3874 []\n",
      "3893 [4, 5, 13]\n",
      "3903 [21, 5, 5]\n",
      "3908 [0, 0]\n",
      "3924 [21, 22, 22, 0, 21]\n",
      "4003 [1, 1]\n",
      "4014 [25, 25]\n",
      "4033 [14, 25, 25]\n",
      "4055 [25, 25]\n",
      "4074 [19, 26]\n",
      "4132 [0, 23, 23, 0]\n",
      "4212 [0]\n",
      "4221 [19]\n",
      "4235 [25, 21, 25, 21, 7]\n",
      "4288 [25]\n",
      "4290 [7, 22, 19]\n",
      "4312 [7, 23, 7]\n",
      "4315 []\n",
      "4316 [23]\n",
      "4336 [25]\n",
      "4401 [0, 0]\n",
      "4405 [25]\n",
      "4437 []\n",
      "4478 [25, 25]\n",
      "4497 []\n",
      "4498 [23]\n",
      "4499 [23]\n",
      "4529 []\n",
      "4541 [21, 14]\n",
      "4581 [21, 25, 25, 21]\n",
      "4598 [25]\n",
      "4647 [11, 11]\n",
      "4681 []\n",
      "4763 []\n",
      "4764 [19, 19]\n",
      "4771 [25]\n",
      "4823 [25, 25]\n",
      "4858 [26, 26]\n",
      "4907 [14]\n",
      "4963 [2, 2, 0]\n",
      "4993 [25, 25]\n",
      "4999 []\n",
      "5017 [23, 0, 23]\n",
      "5049 [4]\n",
      "5090 [21, 21, 25]\n",
      "5092 [25]\n",
      "5111 []\n",
      "5156 [23, 23]\n",
      "5157 [25, 2]\n",
      "5162 [0, 21]\n",
      "5200 []\n",
      "5271 []\n",
      "5301 [0, 25]\n",
      "5363 [25, 25]\n",
      "5424 []\n",
      "5425 []\n",
      "5428 [7, 18, 18, 7]\n",
      "5439 [5, 0, 5]\n",
      "5448 [21]\n",
      "5449 [2, 21, 21]\n",
      "5456 []\n",
      "5473 [22, 22]\n",
      "5595 []\n",
      "5660 []\n",
      "5675 [5, 14, 5]\n",
      "5724 []\n",
      "5763 [25, 25]\n",
      "5791 [21]\n",
      "5818 [26]\n",
      "5823 [14]\n",
      "5830 []\n",
      "5844 [26, 26]\n",
      "5845 [21, 23, 21]\n",
      "5877 [23, 23]\n",
      "5898 [21, 21]\n",
      "5944 []\n",
      "5959 [21, 21, 23]\n",
      "5964 []\n",
      "5986 [7]\n",
      "6012 [0, 0]\n",
      "6059 [21]\n",
      "6133 []\n",
      "6139 [25, 23, 23]\n",
      "6145 []\n",
      "6151 [12, 7]\n",
      "6161 [21, 21]\n",
      "6226 [25, 2, 25, 12]\n",
      "6234 []\n",
      "6248 []\n",
      "6256 [0]\n",
      "6262 [6, 25, 25]\n",
      "6275 [0, 0, 6, 6]\n",
      "6299 []\n",
      "6313 [25, 25]\n",
      "6327 [11]\n",
      "6364 []\n",
      "6378 [25]\n",
      "6383 [0, 0, 19]\n",
      "6437 [25, 25, 23]\n",
      "6520 []\n",
      "6544 [21, 25, 2, 25, 21]\n",
      "6559 [25, 0, 25, 0]\n",
      "6604 [21, 21, 7, 7]\n",
      "6616 [19]\n",
      "6627 [21]\n",
      "6633 [0, 0]\n",
      "6660 []\n",
      "6674 [7, 7, 23, 18, 18]\n",
      "6689 [23]\n",
      "6702 [11]\n",
      "6705 []\n",
      "6709 [5, 6, 6, 23]\n",
      "6728 [6]\n",
      "6757 []\n",
      "6827 [14, 14]\n",
      "6834 [7, 25, 0, 25]\n",
      "6852 [0]\n",
      "6865 [0, 25, 25]\n",
      "6883 [25]\n",
      "6898 []\n",
      "6902 [18, 25]\n",
      "6908 [25, 23]\n",
      "6937 [7, 7]\n",
      "6952 []\n",
      "6954 [7]\n",
      "6986 [7, 7]\n",
      "6992 [1]\n",
      "6996 []\n",
      "7000 [21, 25, 21]\n",
      "7060 []\n",
      "7070 [25]\n",
      "7090 [7]\n",
      "7095 []\n",
      "7175 [25]\n",
      "7201 [7, 23]\n",
      "7226 [25]\n",
      "7321 []\n",
      "7365 []\n",
      "7449 [12]\n",
      "7453 [23, 23, 25]\n",
      "7457 [4, 25, 25]\n",
      "7483 [0, 25, 21, 0, 25]\n",
      "7536 [3]\n",
      "7586 [23, 23]\n",
      "7645 [12]\n",
      "7672 [7, 7, 23, 11, 11]\n",
      "7677 []\n",
      "7734 [22, 22]\n",
      "7741 [26, 26]\n",
      "7754 []\n",
      "7787 [19, 19]\n",
      "7808 [23, 11, 11, 23]\n",
      "7823 [5, 19, 25, 0, 0, 5, 25]\n",
      "7827 [2, 2]\n",
      "7830 []\n",
      "7835 [23]\n",
      "7837 [22]\n",
      "7849 []\n",
      "7899 [19, 19]\n",
      "7902 [19]\n",
      "7953 []\n",
      "7974 []\n",
      "7978 [12, 12]\n",
      "7981 [18, 23, 23]\n",
      "8004 []\n",
      "8076 [16, 25]\n",
      "8169 [25, 25]\n",
      "8178 []\n",
      "8197 [14]\n",
      "8247 [25, 18, 25]\n",
      "8345 [0, 6, 0]\n",
      "8346 [7, 18, 7, 18]\n",
      "8351 [21, 0]\n",
      "8373 []\n",
      "8375 [23, 23]\n",
      "8401 []\n",
      "8444 [0, 25, 0]\n",
      "8473 [25, 21, 21]\n",
      "8499 [26, 19]\n",
      "8509 [25]\n",
      "8516 []\n",
      "8682 [25, 23, 25]\n",
      "8683 [7, 19]\n",
      "8707 []\n",
      "8717 []\n",
      "8729 [23]\n",
      "8741 [2, 2]\n",
      "8747 [25]\n",
      "8758 [0, 0]\n",
      "8760 []\n",
      "8788 [4]\n",
      "8809 [19]\n",
      "8834 []\n",
      "8868 []\n",
      "8886 [23]\n",
      "8920 [22, 22]\n",
      "8968 []\n",
      "8978 []\n",
      "9001 [4, 0, 0]\n",
      "9073 [6]\n",
      "9082 [23, 25, 21, 2]\n",
      "9103 [23, 23]\n",
      "9145 [14, 25, 25]\n",
      "9148 [17]\n",
      "9195 [25]\n",
      "9197 [23]\n",
      "9216 [26, 26, 21]\n",
      "9240 []\n",
      "9245 []\n",
      "9261 []\n",
      "9268 [0, 0]\n",
      "9288 []\n",
      "9292 []\n",
      "9308 [23, 23]\n",
      "9311 [14, 25, 25]\n",
      "9318 [0, 21, 0]\n",
      "9351 [21]\n",
      "9354 []\n",
      "9378 [6]\n",
      "9393 [23, 23]\n",
      "9398 [14, 3]\n",
      "9424 [25, 2]\n",
      "9432 [23]\n",
      "9594 [25, 0]\n",
      "9658 [0, 5, 5, 19, 19, 0]\n",
      "9673 [25]\n",
      "9677 []\n",
      "9716 []\n",
      "9719 [25]\n",
      "9720 [14]\n",
      "9746 [25, 25]\n",
      "9834 [4, 3, 4]\n",
      "9846 [19]\n",
      "9888 [21, 21]\n",
      "9918 [0]\n",
      "9932 []\n",
      "9937 [26]\n",
      "9946 [25, 18]\n",
      "9959 []\n",
      "9973 [19, 19, 0]\n",
      "9988 [2, 2]\n",
      "10035 [0, 7, 0]\n",
      "10056 [0, 1, 0, 1]\n",
      "10114 [25, 25]\n",
      "10119 [26]\n",
      "10133 []\n",
      "10141 []\n",
      "10183 [25]\n",
      "10184 [3, 3]\n",
      "10207 []\n",
      "10210 [2, 3, 11, 11, 21, 21, 25]\n",
      "10211 [26]\n",
      "10266 []\n",
      "10396 [23, 2, 23, 0, 4]\n",
      "10399 [0, 21, 0, 21]\n",
      "10419 []\n",
      "10426 []\n",
      "10430 []\n",
      "10437 []\n",
      "10452 []\n",
      "10492 []\n",
      "10499 []\n",
      "10534 [25, 25]\n",
      "10538 [6, 23]\n",
      "10574 [25]\n",
      "10578 []\n",
      "10583 []\n",
      "10587 []\n",
      "10629 [25, 25]\n",
      "10669 []\n",
      "10672 [3, 4]\n",
      "10686 [12, 21]\n",
      "10732 []\n",
      "10753 [23, 7, 7, 23]\n",
      "10755 [0]\n",
      "10806 []\n",
      "10825 []\n",
      "10832 [4]\n",
      "10849 [18]\n",
      "10870 [5, 0, 5]\n",
      "10913 [0]\n",
      "10985 [21, 25]\n",
      "10986 [0]\n",
      "11071 [25, 21, 21]\n",
      "11086 [2, 23, 2]\n",
      "11122 []\n",
      "11130 []\n",
      "11199 [4, 19]\n",
      "11224 []\n",
      "11247 [25, 0]\n",
      "11298 [3, 25, 23, 23]\n",
      "11319 []\n",
      "11343 [19]\n",
      "11367 [25, 25, 16, 16]\n",
      "11405 [25, 21, 25, 21]\n",
      "11474 [11]\n",
      "11497 [21, 11]\n",
      "11553 [22, 22]\n",
      "11558 [23, 21]\n",
      "11564 [0]\n",
      "11617 [25]\n",
      "11635 [0, 0]\n",
      "11652 []\n",
      "11655 [7]\n",
      "11657 []\n",
      "11661 [25]\n"
     ]
    }
   ],
   "source": [
    "class_list = [8,9,10,15,20,24,27]\n",
    "pred_list = []\n",
    "for i in range(len(pred_sum)):\n",
    "    new = []\n",
    "    for x in class_list:\n",
    "        if x in pred_sum[i]:\n",
    "            new.append(x)\n",
    "    for x in [0,1,2,3,4,5,6,7,11,12,13,14,16,17,18,19,21,22,23,25,26]:\n",
    "        if pred_sum[i].count(x)>2:\n",
    "            new.append(x)\n",
    "    \n",
    "    if new == []:\n",
    "        for x in [0,1,2,3,4,5,6,7,11,12,13,14,16,17,18,19,21,22,23,25,26]:\n",
    "            if pred_sum[i].count(x)==2:\n",
    "                new.append(x)\n",
    "\n",
    "    if new == []:\n",
    "        print(i,pred_sum[i])\n",
    "    s = ' '.join(list([str(y) for y in new]))\n",
    "    pred_list.append(s)"
   ]
  },
  {
   "cell_type": "code",
   "execution_count": 56,
   "metadata": {},
   "outputs": [],
   "source": [
    "df = pd.DataFrame({'Id':learner.data.test_ds.fnames,'Predicted':pred_list})\n",
    "df.sort_values(by='Id').to_csv('protein_classification_t.csv', header=True, index=False)"
   ]
  },
  {
   "cell_type": "code",
   "execution_count": null,
   "metadata": {},
   "outputs": [],
   "source": []
  }
 ],
 "metadata": {
  "kernelspec": {
   "display_name": "Python 3",
   "language": "python",
   "name": "python3"
  },
  "language_info": {
   "codemirror_mode": {
    "name": "ipython",
    "version": 3
   },
   "file_extension": ".py",
   "mimetype": "text/x-python",
   "name": "python",
   "nbconvert_exporter": "python",
   "pygments_lexer": "ipython3",
   "version": "3.6.4"
  }
 },
 "nbformat": 4,
 "nbformat_minor": 2
}
